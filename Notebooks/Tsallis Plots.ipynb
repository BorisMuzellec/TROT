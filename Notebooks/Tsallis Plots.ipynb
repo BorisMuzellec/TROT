{
 "cells": [
  {
   "cell_type": "code",
   "execution_count": 4,
   "metadata": {
    "collapsed": true
   },
   "outputs": [],
   "source": [
    "import numpy as np\n",
    "import matplotlib.pyplot as plt\n",
    "import matplotlib.gridspec as gridspec\n",
    "from matplotlib.patches import Rectangle\n",
    "from scipy.stats import poisson\n",
    "\n",
    "import sys\n",
    "sys.path.append('..')\n",
    "sys.path.append('../Trot')\n",
    "sys.path.append('../Data')\n",
    "\n",
    "from Trot.Tsallis import TROT, q_log\n",
    "from Trot.Generators import euc_costs  "
   ]
  },
  {
   "cell_type": "markdown",
   "metadata": {},
   "source": [
    "# Influence of parameters $q$ and $\\lambda$\n",
    "\n",
    "We reproduce Figure 2. from (cite our paper)"
   ]
  },
  {
   "cell_type": "markdown",
   "metadata": {},
   "source": [
    "First, choose values for $q$ and $\\lambda$ to test,sample size n, modes $\\mu$ and mixing coefficients $t$."
   ]
  },
  {
   "cell_type": "code",
   "execution_count": 2,
   "metadata": {
    "collapsed": false
   },
   "outputs": [],
   "source": [
    "n = 100\n",
    "q = np.arange(0.5,2,0.5)\n",
    "l = [0.1,1,10,100]\n",
    "mu1 = [20,60]\n",
    "mu2 = [10,40,70]\n",
    "t1 = [0.5,0.5]\n",
    "t2 = [0.2,0.4,0.4]"
   ]
  },
  {
   "cell_type": "markdown",
   "metadata": {},
   "source": [
    "Run TROT on selected parameters and marginals and produce the figure."
   ]
  },
  {
   "cell_type": "code",
   "execution_count": 3,
   "metadata": {
    "collapsed": true
   },
   "outputs": [],
   "source": [
    "x = range(n)\n",
    "    \n",
    "r_tmp = []    \n",
    "for mode in mu1:\n",
    "    r_tmp.append(poisson.pmf(x,mode))\n",
    "        \n",
    "c_tmp = []    \n",
    "for mode in mu2:\n",
    "    c_tmp.append(poisson.pmf(x,mode))\n",
    "        \n",
    "r = np.dot(t1,r_tmp)\n",
    "r = r/r.sum()\n",
    "    \n",
    "c = np.dot(t2,c_tmp)\n",
    "c = c/c.sum()\n",
    "    \n",
    "    \n",
    "M = euc_costs(n,n)\n",
    "    \n",
    "P = []\n",
    "    \n",
    "nq = len(q)\n",
    "nl = len(l)\n",
    "    \n",
    "        \n",
    "for j in range(nq):\n",
    "    for i in range(nl):\n",
    "        P_tmp = TROT(q[j],M,r,c,l[i],1E-2)\n",
    "        P.append(P_tmp)\n",
    "    \n",
    "    \n",
    "fig = plt.figure(figsize=(8, 8))\n",
    "    \n",
    "outer_grid = gridspec.GridSpec(2, 2, width_ratios=[1,5], height_ratios=[1,5])\n",
    "outer_grid.update(wspace=0.01, hspace=0.01)\n",
    "# gridspec inside gridspec\n",
    "outer_joint = gridspec.GridSpecFromSubplotSpec(nq,nl, subplot_spec=outer_grid[1,1],wspace=0.02, hspace=0.02)\n",
    "outer_row_marg = gridspec.GridSpecFromSubplotSpec(nq,1, subplot_spec=outer_grid[1,0],wspace=0.02, hspace=0.02)\n",
    "outer_col_marg = gridspec.GridSpecFromSubplotSpec(1,nl, subplot_spec=outer_grid[0,1],wspace=0.02, hspace=0.02)\n",
    "    \n",
    "    \n",
    "for b in range(nl):\n",
    "    for a in range (nq):\n",
    "        ax = plt.Subplot(fig, outer_joint[a,b])\n",
    "        ax.imshow(P[nl*a + b], origin='upper', interpolation = None, aspect = 'auto', cmap = 'Greys')\n",
    "        rect = Rectangle((0, 0), n-1, n-1, fc='none', ec='black')     \n",
    "        rect.set_width(0.8)\n",
    "        rect.set_bounds(0,0,n-1,n-1)\n",
    "        ax.add_patch(rect)\n",
    "        ax.set_xticks([])\n",
    "        ax.set_yticks([])\n",
    "        fig.add_subplot(ax)\n",
    "        ax.set_axis_bgcolor('white')\n",
    "        \n",
    "for i in range(nq):\n",
    "    ax_row = plt.Subplot(fig,outer_row_marg[i], sharey = ax)\n",
    "    ax_row.plot(1-r, x)\n",
    "    fig.add_subplot(ax_row)\n",
    "    \n",
    "    ax_row.axes.get_xaxis().set_visible(False)\n",
    "    ax_row.axes.get_yaxis().set_visible(False)\n",
    "    bottom, height = .25, .5\n",
    "    top = bottom + height\n",
    "    ax_row.text(-0.05, 0.5*(bottom+top), 'q = {0}'.format(q[i]), horizontalalignment='right', verticalalignment='center', rotation='vertical',transform=ax_row.transAxes, fontsize='medium')\n",
    "    \n",
    "    ax_row.set_axis_bgcolor('white')\n",
    "    \n",
    "for j in range(nl):\n",
    "    ax_col = plt.Subplot(fig,outer_col_marg[j], sharex = ax)\n",
    "    ax_col.plot(x,c)\n",
    "    fig.add_subplot(ax_col)    \n",
    "    bottom, height = .25, .5\n",
    "    ax_col.axes.get_xaxis().set_visible(False)\n",
    "    ax_col.axes.get_yaxis().set_visible(False)\n",
    "    ax_col.set_title(r'$\\lambda$'+' = {0}'.format(l[j]),fontsize='medium')\n",
    "    ax_col.set_axis_bgcolor('white')\n",
    "    \n",
    "fig.show()"
   ]
  },
  {
   "cell_type": "markdown",
   "metadata": {},
   "source": [
    "# Tsallis entropies\n",
    "\n",
    "We plot the Tsallis entropies of a Bernoulli random variable with parameter $p$ for different values of $q$."
   ]
  },
  {
   "cell_type": "code",
   "execution_count": 20,
   "metadata": {
    "collapsed": false
   },
   "outputs": [],
   "source": [
    "def Tsallis_Bernoulli(q,p):\n",
    "    if np.isclose(q,1):\n",
    "        return p*np.log(1/p) + (1-p)*np.log(1/(1-p))\n",
    "    else:\n",
    "        return p*q_log(q,1/p) + (1-p)*q_log(q,1/(1-p))\n",
    "\n",
    "x = np.arange(1E-6,1,0.001)\n",
    "\n",
    "plt.figure()\n",
    "\n",
    "plt.plot(x,Tsallis_Bernoulli(0.1,x), label = 'q = 0.1')\n",
    "plt.plot(x,Tsallis_Bernoulli(0.5,x), label = 'q = 0.5')\n",
    "plt.plot(x,Tsallis_Bernoulli(1,x), label = 'q = 1')\n",
    "plt.plot(x,Tsallis_Bernoulli(1.5,x), label = 'q = 1.5')\n",
    "plt.plot(x,Tsallis_Bernoulli(5,x), label = 'q = 5')\n",
    "\n",
    "plt.legend()\n",
    "\n",
    "plt.show()"
   ]
  },
  {
   "cell_type": "markdown",
   "metadata": {},
   "source": [
    "Notice how the choice of $q$ impacts the notion of randomness. When $q$ goes to 0, the entropy converges to the constant function $x=1$, except at the borders $p=0$ and $p=1$. Low values of q are anti-sparsity-inducing, but since they are rather flat around $p=0.5$ they do not require the distribution to be exactly uniform to have high-entropy. When $q$ goes to infinity, the entropy converges to the zero fonction."
   ]
  },
  {
   "cell_type": "code",
   "execution_count": null,
   "metadata": {
    "collapsed": true
   },
   "outputs": [],
   "source": []
  }
 ],
 "metadata": {
  "kernelspec": {
   "display_name": "Python 3",
   "language": "python",
   "name": "python3"
  },
  "language_info": {
   "codemirror_mode": {
    "name": "ipython",
    "version": 3
   },
   "file_extension": ".py",
   "mimetype": "text/x-python",
   "name": "python",
   "nbconvert_exporter": "python",
   "pygments_lexer": "ipython3",
   "version": "3.5.1"
  }
 },
 "nbformat": 4,
 "nbformat_minor": 0
}
