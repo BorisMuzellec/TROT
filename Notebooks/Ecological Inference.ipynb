{
 "cells": [
  {
   "cell_type": "markdown",
   "metadata": {
    "collapsed": true
   },
   "source": [
    "# Ecological Inference through Tsallis Regularized Optimal Transport (TROT)\n",
    "This notebook presents the pipeline used in our paper to perform ecological inference on the Florida dataset.\n",
    "\n",
    "You will first want to download the Florida dataset - see the README. "
   ]
  },
  {
   "cell_type": "code",
   "execution_count": null,
   "metadata": {
    "collapsed": false,
    "scrolled": true
   },
   "outputs": [],
   "source": [
    "import pandas as pd\n",
    "import numpy as np\n",
    "import pickle\n",
    "from matplotlib import pyplot as plt\n",
    "from matplotlib.pylab import savefig\n",
    "\n",
    "import sys\n",
    "sys.path.append('..')\n",
    "sys.path.append('../Trot')\n",
    "sys.path.append('../Data')\n",
    "\n",
    "from Trot import Distances as dist\n",
    "from Trot.Evaluation import KL\n",
    "from Trot.Florida_inference import CV_Local_Inference, Local_Inference"
   ]
  },
  {
   "cell_type": "markdown",
   "metadata": {},
   "source": [
    "# Data Loading and Processing"
   ]
  },
  {
   "cell_type": "code",
   "execution_count": null,
   "metadata": {
    "collapsed": false
   },
   "outputs": [],
   "source": [
    "FlData = pd.read_csv('../Fl_Data.csv', usecols = ['District', 'County','Voters_Age', 'Voters_Gender', 'PID', 'vote08', \n",
    "                    'SR.WHI', 'SR.BLA', 'SR.HIS', 'SR.ASI', 'SR.NAT', 'SR.OTH']) \n",
    "\n",
    "FlData = FlData.dropna()"
   ]
  },
  {
   "cell_type": "markdown",
   "metadata": {},
   "source": [
    "Change gender values to numerical values"
   ]
  },
  {
   "cell_type": "code",
   "execution_count": null,
   "metadata": {
    "collapsed": true
   },
   "outputs": [],
   "source": [
    "FlData['Voters_Gender'] = FlData['Voters_Gender'].map({'M': 1, 'F': 0})"
   ]
  },
  {
   "cell_type": "markdown",
   "metadata": {},
   "source": [
    "Renormalize the age so that it takes values between 0 and 1"
   ]
  },
  {
   "cell_type": "code",
   "execution_count": null,
   "metadata": {
    "collapsed": true
   },
   "outputs": [],
   "source": [
    "FlData['Voters_Age'] = ((FlData['Voters_Age'] -\n",
    "                         FlData['Voters_Age'].min()) /\n",
    "                        (FlData['Voters_Age'].max() -\n",
    "                         FlData['Voters_Age'].min()))\n"
   ]
  },
  {
   "cell_type": "markdown",
   "metadata": {},
   "source": [
    "One-hot party subscriptions (PID)"
   ]
  },
  {
   "cell_type": "code",
   "execution_count": null,
   "metadata": {
    "collapsed": true
   },
   "outputs": [],
   "source": [
    "#Get one hot encoding of column PID\n",
    "one_hot = pd.get_dummies(FlData['PID'])\n",
    "# Drop column PID as it is now encoded\n",
    "FlData = FlData.drop('PID', axis=1)\n",
    "# Join the encoded df\n",
    "FlData = FlData.join(one_hot)\n",
    "# Rename the new columns\n",
    "FlData.rename(columns={0: 'Other', 1: 'Democrat', 2: 'Republican'},\n",
    "              inplace=True)"
   ]
  },
  {
   "cell_type": "code",
   "execution_count": null,
   "metadata": {
    "collapsed": false
   },
   "outputs": [],
   "source": [
    "FlData.describe()"
   ]
  },
  {
   "cell_type": "markdown",
   "metadata": {},
   "source": [
    "# Compute Marginals and Joint Distributions"
   ]
  },
  {
   "cell_type": "markdown",
   "metadata": {},
   "source": [
    "Create a county dictionnary"
   ]
  },
  {
   "cell_type": "code",
   "execution_count": null,
   "metadata": {
    "collapsed": false
   },
   "outputs": [],
   "source": [
    "Voters_By_County = {}\n",
    "all_counties = FlData.County.unique()\n",
    "for county in all_counties:\n",
    "    Voters_By_County[county] = FlData[FlData['County'] == county]"
   ]
  },
  {
   "cell_type": "markdown",
   "metadata": {},
   "source": [
    "Compute the ground truth joint distribution"
   ]
  },
  {
   "cell_type": "code",
   "execution_count": null,
   "metadata": {
    "collapsed": false
   },
   "outputs": [],
   "source": [
    "J = {}\n",
    "for county in all_counties:\n",
    "    J[county] = np.zeros((6, 3))\n",
    "\n",
    "    J[county][0,0] = Voters_By_County[county].loc[(Voters_By_County[county]['Other'] ==1) & (Voters_By_County[county]['SR.WHI']==1)].shape[0]\n",
    "    J[county][0,1] = Voters_By_County[county].loc[(Voters_By_County[county]['Democrat'] ==1) & (Voters_By_County[county]['SR.WHI']==1)].shape[0]\n",
    "    J[county][0,2] = Voters_By_County[county].loc[(Voters_By_County[county]['Republican'] ==1) & (Voters_By_County[county]['SR.WHI']==1)].shape[0]\n",
    "\n",
    "    J[county][1,0] = Voters_By_County[county].loc[(Voters_By_County[county]['Other'] ==1) & (Voters_By_County[county]['SR.BLA']==1)].shape[0]\n",
    "    J[county][1,1] = Voters_By_County[county].loc[(Voters_By_County[county]['Democrat'] ==1) & (Voters_By_County[county]['SR.BLA']==1)].shape[0]\n",
    "    J[county][1,2] = Voters_By_County[county].loc[(Voters_By_County[county]['Republican'] ==1) & (Voters_By_County[county]['SR.BLA']==1)].shape[0]\n",
    "\n",
    "    J[county][2,0] = Voters_By_County[county].loc[(Voters_By_County[county]['Other'] ==1) & (Voters_By_County[county]['SR.HIS']==1)].shape[0]\n",
    "    J[county][2,1] = Voters_By_County[county].loc[(Voters_By_County[county]['Democrat'] ==1) & (Voters_By_County[county]['SR.HIS']==1)].shape[0]\n",
    "    J[county][2,2] = Voters_By_County[county].loc[(Voters_By_County[county]['Republican'] ==1) & (Voters_By_County[county]['SR.HIS']==1)].shape[0]\n",
    "\n",
    "    J[county][3,0] = Voters_By_County[county].loc[(Voters_By_County[county]['Other'] ==1) & (Voters_By_County[county]['SR.ASI']==1)].shape[0]\n",
    "    J[county][3,1] = Voters_By_County[county].loc[(Voters_By_County[county]['Democrat'] ==1) & (Voters_By_County[county]['SR.ASI']==1)].shape[0]\n",
    "    J[county][3,2] = Voters_By_County[county].loc[(Voters_By_County[county]['Republican'] ==1) & (Voters_By_County[county]['SR.ASI']==1)].shape[0]\n",
    "\n",
    "    J[county][4,0] = Voters_By_County[county].loc[(Voters_By_County[county]['Other'] ==1) &(Voters_By_County[county]['SR.NAT']==1)].shape[0]\n",
    "    J[county][4,1] = Voters_By_County[county].loc[(Voters_By_County[county]['Democrat'] ==1) & (Voters_By_County[county]['SR.NAT']==1)].shape[0]\n",
    "    J[county][4,2] = Voters_By_County[county].loc[(Voters_By_County[county]['Republican'] ==1) & (Voters_By_County[county]['SR.NAT']==1)].shape[0]\n",
    "\n",
    "    J[county][5,0] = Voters_By_County[county].loc[(Voters_By_County[county]['Other'] ==1) & (Voters_By_County[county]['SR.OTH']==1)].shape[0]\n",
    "    J[county][5,1] = Voters_By_County[county].loc[(Voters_By_County[county]['Democrat'] ==1) & (Voters_By_County[county]['SR.OTH']==1)].shape[0]\n",
    "    J[county][5,2] = Voters_By_County[county].loc[(Voters_By_County[county]['Republican'] ==1) & (Voters_By_County[county]['SR.OTH']==1)].shape[0]\n",
    "\n",
    "    J[county] /= J[county].sum()"
   ]
  },
  {
   "cell_type": "code",
   "execution_count": null,
   "metadata": {
    "collapsed": false
   },
   "outputs": [],
   "source": [
    "print(J[12])"
   ]
  },
  {
   "cell_type": "markdown",
   "metadata": {},
   "source": [
    "Compute the party marginals"
   ]
  },
  {
   "cell_type": "code",
   "execution_count": null,
   "metadata": {
    "collapsed": false
   },
   "outputs": [],
   "source": [
    "Party_Marginals = {}\n",
    "parties = ['Other', 'Democrat', 'Republican']\n",
    "for county in all_counties:\n",
    "    Party_Marginals[county] = pd.Series([J[county][:, i].sum()\n",
    "                                        for i in np.arange(3)])\n",
    "    Party_Marginals[county].index = parties"
   ]
  },
  {
   "cell_type": "markdown",
   "metadata": {},
   "source": [
    "Compute the ethnicity marginals"
   ]
  },
  {
   "cell_type": "code",
   "execution_count": null,
   "metadata": {
    "collapsed": false
   },
   "outputs": [],
   "source": [
    "Ethnicity_Marginals = {}\n",
    "ethnies = ['SR.WHI', 'SR.BLA', 'SR.HIS', 'SR.ASI', 'SR.NAT', 'SR.OTH']\n",
    "for county in all_counties:\n",
    "    Ethnicity_Marginals[county] = pd.Series([J[county][i, :].sum()\n",
    "                                             for i in np.arange(6)])\n",
    "    Ethnicity_Marginals[county].index = ethnies"
   ]
  },
  {
   "cell_type": "markdown",
   "metadata": {},
   "source": [
    "# Compute the cost matrix\n",
    "Using only age, gender, and 2008 vote or abstention"
   ]
  },
  {
   "cell_type": "code",
   "execution_count": null,
   "metadata": {
    "collapsed": false
   },
   "outputs": [],
   "source": [
    "features = ['Voters_Age', 'Voters_Gender', 'vote08']\n",
    "e_len, p_len = len(ethnies), len(parties)\n",
    "M = np.zeros((e_len, p_len))\n",
    "for i, e in enumerate(ethnies):\n",
    "    data_e = FlData[FlData[e] == 1.0]\n",
    "    average_by_e = data_e[features].mean(axis=0)\n",
    "    for j, p in enumerate(parties):\n",
    "        data_p = FlData[FlData[p] == 1.0]\n",
    "        average_by_p = data_p[features].mean(axis=0)\n",
    "\n",
    "        M[i, j] = np.array(dist.dist_2(average_by_e, average_by_p))"
   ]
  },
  {
   "cell_type": "markdown",
   "metadata": {},
   "source": [
    "# Start the inference"
   ]
  },
  {
   "cell_type": "markdown",
   "metadata": {},
   "source": [
    "Use a specific county or district to select the best parameters"
   ]
  },
  {
   "cell_type": "code",
   "execution_count": null,
   "metadata": {
    "collapsed": true
   },
   "outputs": [],
   "source": [
    "CV_counties = FlData[FlData['District'] == 3].County.unique()\n",
    "del FlData"
   ]
  },
  {
   "cell_type": "markdown",
   "metadata": {},
   "source": [
    "Find the best parameters"
   ]
  },
  {
   "cell_type": "code",
   "execution_count": null,
   "metadata": {
    "collapsed": false
   },
   "outputs": [],
   "source": [
    "q = np.arange(0.5, 3.1, 0.1)\n",
    "l = [0.01, 0.1, 1., 10., 100.] \n",
    "\n",
    "best_score, best_q, best_l = CV_Local_Inference(Voters_By_County, M, J, Ethnicity_Marginals, Party_Marginals,\n",
    "                   CV_counties,q,l)"
   ]
  },
  {
   "cell_type": "markdown",
   "metadata": {
    "collapsed": true
   },
   "source": [
    "Use selected parameters on the rest of the dataset"
   ]
  },
  {
   "cell_type": "code",
   "execution_count": null,
   "metadata": {
    "collapsed": false
   },
   "outputs": [],
   "source": [
    "J_inferred = Local_Inference(Voters_By_County, M, J, Ethnicity_Marginals, Party_Marginals, all_counties, best_q, best_l)\n",
    "kl, std = KL(J, J_inferred, all_counties, save_to_file=False, compute_abs_err=True)"
   ]
  },
  {
   "cell_type": "markdown",
   "metadata": {},
   "source": [
    "# Plot the results"
   ]
  },
  {
   "cell_type": "code",
   "execution_count": null,
   "metadata": {
    "collapsed": false
   },
   "outputs": [],
   "source": [
    "diag = np.linspace(-0.1, 1.0, 100)\n",
    "\n",
    "# pickle results\n",
    "f = open('../Data/joints_gallup.pkl', 'rb')\n",
    "J_true, J = pickle.load(f)\n",
    "\n",
    "f = open('../Data/baseline.pkl', 'rb')\n",
    "J_baseline = pickle.load(f)\n",
    "\n",
    "j_true, j, j_baseline = [], [], []\n",
    "for c in all_counties:\n",
    "    j_true.append(np.array(J_true[c]).flatten())\n",
    "    j.append(np.array(J_inferred[c]).flatten())\n",
    "    j_baseline.append(np.array(J_baseline[c]).flatten())\n",
    "\n",
    "j_true = np.array(j_true).flatten()\n",
    "j = np.array(j).flatten()\n",
    "j_baseline = np.array(j_baseline).flatten()\n"
   ]
  },
  {
   "cell_type": "markdown",
   "metadata": {},
   "source": [
    "Plot the correlation between the ground truth for the joint distribution and the infered distribution (the closer to the $x = y$ diagonal axis, the better)"
   ]
  },
  {
   "cell_type": "code",
   "execution_count": null,
   "metadata": {
    "collapsed": false
   },
   "outputs": [],
   "source": [
    "plt.figure()\n",
    "plt.scatter(j_true, j, alpha=0.5)\n",
    "plt.xlabel('Ground truth')\n",
    "plt.ylabel('TROT (RBF)')\n",
    "plt.plot(diag, diag, 'r--')\n",
    "\n",
    "#plt.show()"
   ]
  },
  {
   "cell_type": "markdown",
   "metadata": {},
   "source": [
    "Plot the distribution of the error (the more packed around the origin of the $x$-axis, the better)"
   ]
  },
  {
   "cell_type": "code",
   "execution_count": null,
   "metadata": {
    "collapsed": false
   },
   "outputs": [],
   "source": [
    "plt.figure()\n",
    "bins = np.arange(-.3, .6, 0.01)\n",
    "plt.hist(j_true - j, bins=bins, alpha=0.5, label='TROT')\n",
    "plt.hist(j_true - j_baseline, bins=bins, alpha=0.5, label='Florida-average')\n",
    "plt.legend()\n",
    "plt.xlabel('Difference between inference and ground truth')\n",
    "\n",
    "#plt.show()"
   ]
  },
  {
   "cell_type": "markdown",
   "metadata": {},
   "source": [
    "# Survey-based ecological inference\n",
    "Same pipeline, but using a cost matrix computed thanks to the 2013 Gallup survey. (http://www.gallup.com/poll/160373/democrats-racially-diverse-republicans-mostly-white.aspx)\n",
    "\n",
    "We assume that Gallup's Other = {Native, Other}\n",
    "\n",
    "The cost matrix M is computed as $1-p_{ij}$, where $p_{ij}$ is the proportion of people registered to party $j$ belonging to group $i$."
   ]
  },
  {
   "cell_type": "code",
   "execution_count": null,
   "metadata": {
    "collapsed": true
   },
   "outputs": [],
   "source": [
    "M_sur = np.array([\n",
    "               [.38, .26, .35],\n",
    "               [.29, .64, .05],\n",
    "               [.50, .32, .13],\n",
    "               [.46, .36, .17],\n",
    "               [.49, .32, .18],\n",
    "               [.49, .32, .18]\n",
    "               ])\n",
    "M_sur = (1. - M_sur)"
   ]
  },
  {
   "cell_type": "markdown",
   "metadata": {},
   "source": [
    "Once again, find the best parameters"
   ]
  },
  {
   "cell_type": "code",
   "execution_count": null,
   "metadata": {
    "collapsed": false
   },
   "outputs": [],
   "source": [
    "best_score, best_q, best_l = CV_Local_Inference(Voters_By_County, M_sur, J, Ethnicity_Marginals, Party_Marginals,\n",
    "                   CV_counties,q,l)"
   ]
  },
  {
   "cell_type": "markdown",
   "metadata": {},
   "source": [
    "Using these parameters, run the inference on the rest of the dataset"
   ]
  },
  {
   "cell_type": "code",
   "execution_count": null,
   "metadata": {
    "collapsed": false
   },
   "outputs": [],
   "source": [
    "J_sur = Local_Inference(Voters_By_County, M_sur, J, Ethnicity_Marginals, Party_Marginals, all_counties, best_q, best_l)\n",
    "kl, std = KL(J, J_sur, all_counties, save_to_file=False, compute_abs_err=True)"
   ]
  },
  {
   "cell_type": "markdown",
   "metadata": {},
   "source": [
    "Plot correlation with ground truth"
   ]
  },
  {
   "cell_type": "code",
   "execution_count": null,
   "metadata": {
    "collapsed": true
   },
   "outputs": [],
   "source": [
    "j_sur = []\n",
    "for c in all_counties:\n",
    "    j_sur.append(np.array(J_sur[c]).flatten())\n",
    "\n",
    "j_sur = np.array(j_sur).flatten()\n",
    "\n",
    "plt.figure()\n",
    "plt.scatter(j_true, j_sur, alpha=0.5)\n",
    "plt.xlabel('Ground truth')\n",
    "plt.ylabel('TROT (survey)')\n",
    "plt.plot(diag, diag, 'r--')\n",
    "\n",
    "#plt.show()\n",
    "    "
   ]
  },
  {
   "cell_type": "markdown",
   "metadata": {},
   "source": [
    "Plot error distribution (compared with Florida average)"
   ]
  },
  {
   "cell_type": "code",
   "execution_count": null,
   "metadata": {
    "collapsed": false
   },
   "outputs": [],
   "source": [
    "plt.figure()\n",
    "bins = np.arange(-.3, .6, 0.01)\n",
    "plt.hist(j_true - j_sur, bins=bins, alpha=0.5, label='TROT (survey)')\n",
    "plt.hist(j_true - j_baseline, bins=bins, alpha=0.5, label='Florida-average')\n",
    "plt.legend()\n",
    "plt.xlabel('Difference between inference and ground truth')\n",
    "\n",
    "#plt.show()"
   ]
  }
 ],
 "metadata": {
  "anaconda-cloud": {},
  "kernelspec": {
   "display_name": "Python 3",
   "language": "python",
   "name": "python3"
  },
  "language_info": {
   "codemirror_mode": {
    "name": "ipython",
    "version": 3
   },
   "file_extension": ".py",
   "mimetype": "text/x-python",
   "name": "python",
   "nbconvert_exporter": "python",
   "pygments_lexer": "ipython3",
   "version": "3.5.1"
  }
 },
 "nbformat": 4,
 "nbformat_minor": 0
}
