{
 "cells": [
  {
   "cell_type": "markdown",
   "metadata": {
    "collapsed": true
   },
   "source": [
    "# Ecological Inference through Tsallis Regularized Optimal Transport (TROT)\n",
    "This notebook presents the pipeline used in (cite our paper) to perform ecological inference on the Florida dataset.\n",
    "\n",
    "You will first want to download the dataset from (url to the dataset)"
   ]
  },
  {
   "cell_type": "code",
   "execution_count": 1,
   "metadata": {
    "collapsed": false
   },
   "outputs": [],
   "source": [
    "import pandas as pd\n",
    "import numpy as np\n",
    "import pickle\n",
    "from matplotlib import pyplot as plt\n",
    "from matplotlib.pylab import savefig\n",
    "\n",
    "import sys\n",
    "sys.path.append('..')\n",
    "sys.path.append('../Trot')\n",
    "sys.path.append('../Data')\n",
    "\n",
    "from Trot import Distances as dist\n",
    "from Trot.Evaluation import KL\n",
    "from Trot.Florida_inference import CV_Local_Inference, Local_Inference"
   ]
  },
  {
   "cell_type": "markdown",
   "metadata": {},
   "source": [
    "# Data Loading and Processing"
   ]
  },
  {
   "cell_type": "code",
   "execution_count": 2,
   "metadata": {
    "collapsed": false
   },
   "outputs": [],
   "source": [
    "FlData = pd.read_csv('../Fl_Data.csv', usecols = ['District', 'County','Voters_Age', 'Voters_Gender', 'PID', 'vote08', \n",
    "                    'SR.WHI', 'SR.BLA', 'SR.HIS', 'SR.ASI', 'SR.NAT', 'SR.OTH']) \n",
    "\n",
    "FlData = FlData.dropna()"
   ]
  },
  {
   "cell_type": "markdown",
   "metadata": {},
   "source": [
    "Change gender values to numerical values"
   ]
  },
  {
   "cell_type": "code",
   "execution_count": 3,
   "metadata": {
    "collapsed": true
   },
   "outputs": [],
   "source": [
    "FlData['Voters_Gender'] = FlData['Voters_Gender'].map({'M': 1, 'F': 0})"
   ]
  },
  {
   "cell_type": "markdown",
   "metadata": {},
   "source": [
    "Renormalize the age so that it takes values between 0 and 1"
   ]
  },
  {
   "cell_type": "code",
   "execution_count": 4,
   "metadata": {
    "collapsed": true
   },
   "outputs": [],
   "source": [
    "FlData['Voters_Age'] = ((FlData['Voters_Age'] -\n",
    "                         FlData['Voters_Age'].min()) /\n",
    "                        (FlData['Voters_Age'].max() -\n",
    "                         FlData['Voters_Age'].min()))\n"
   ]
  },
  {
   "cell_type": "markdown",
   "metadata": {},
   "source": [
    "One-hot party subscriptions (PID)"
   ]
  },
  {
   "cell_type": "code",
   "execution_count": 5,
   "metadata": {
    "collapsed": true
   },
   "outputs": [],
   "source": [
    "#Get one hot encoding of column PID\n",
    "one_hot = pd.get_dummies(FlData['PID'])\n",
    "# Drop column PID as it is now encoded\n",
    "FlData = FlData.drop('PID', axis=1)\n",
    "# Join the encoded df\n",
    "FlData = FlData.join(one_hot)\n",
    "# Rename the new columns\n",
    "FlData.rename(columns={0: 'Other', 1: 'Democrat', 2: 'Republican'},\n",
    "              inplace=True)"
   ]
  },
  {
   "cell_type": "code",
   "execution_count": 6,
   "metadata": {
    "collapsed": false
   },
   "outputs": [
    {
     "data": {
      "text/html": [
       "<div>\n",
       "<table border=\"1\" class=\"dataframe\">\n",
       "  <thead>\n",
       "    <tr style=\"text-align: right;\">\n",
       "      <th></th>\n",
       "      <th>District</th>\n",
       "      <th>County</th>\n",
       "      <th>Voters_Age</th>\n",
       "      <th>Voters_Gender</th>\n",
       "      <th>vote08</th>\n",
       "      <th>SR.WHI</th>\n",
       "      <th>SR.BLA</th>\n",
       "      <th>SR.HIS</th>\n",
       "      <th>SR.ASI</th>\n",
       "      <th>SR.NAT</th>\n",
       "      <th>SR.OTH</th>\n",
       "      <th>Other</th>\n",
       "      <th>Democrat</th>\n",
       "      <th>Republican</th>\n",
       "    </tr>\n",
       "  </thead>\n",
       "  <tbody>\n",
       "    <tr>\n",
       "      <th>count</th>\n",
       "      <td>9.235521e+06</td>\n",
       "      <td>9.235521e+06</td>\n",
       "      <td>9.235521e+06</td>\n",
       "      <td>9.235521e+06</td>\n",
       "      <td>9.235521e+06</td>\n",
       "      <td>9.235521e+06</td>\n",
       "      <td>9.235521e+06</td>\n",
       "      <td>9.235521e+06</td>\n",
       "      <td>9.235521e+06</td>\n",
       "      <td>9.235521e+06</td>\n",
       "      <td>9.235521e+06</td>\n",
       "      <td>9.235521e+06</td>\n",
       "      <td>9.235521e+06</td>\n",
       "      <td>9.235521e+06</td>\n",
       "    </tr>\n",
       "    <tr>\n",
       "      <th>mean</th>\n",
       "      <td>1.269016e+01</td>\n",
       "      <td>3.441942e+01</td>\n",
       "      <td>4.213903e-01</td>\n",
       "      <td>4.601492e-01</td>\n",
       "      <td>7.222461e-01</td>\n",
       "      <td>6.812650e-01</td>\n",
       "      <td>1.305151e-01</td>\n",
       "      <td>1.332630e-01</td>\n",
       "      <td>1.587241e-02</td>\n",
       "      <td>3.141891e-03</td>\n",
       "      <td>3.826249e-02</td>\n",
       "      <td>2.283238e-01</td>\n",
       "      <td>4.080179e-01</td>\n",
       "      <td>3.636583e-01</td>\n",
       "    </tr>\n",
       "    <tr>\n",
       "      <th>std</th>\n",
       "      <td>7.139123e+00</td>\n",
       "      <td>1.794370e+01</td>\n",
       "      <td>2.290823e-01</td>\n",
       "      <td>4.984094e-01</td>\n",
       "      <td>4.478914e-01</td>\n",
       "      <td>4.659861e-01</td>\n",
       "      <td>3.368693e-01</td>\n",
       "      <td>3.398587e-01</td>\n",
       "      <td>1.249819e-01</td>\n",
       "      <td>5.596445e-02</td>\n",
       "      <td>1.918293e-01</td>\n",
       "      <td>4.197524e-01</td>\n",
       "      <td>4.914665e-01</td>\n",
       "      <td>4.810519e-01</td>\n",
       "    </tr>\n",
       "    <tr>\n",
       "      <th>min</th>\n",
       "      <td>1.000000e+00</td>\n",
       "      <td>1.000000e+00</td>\n",
       "      <td>0.000000e+00</td>\n",
       "      <td>0.000000e+00</td>\n",
       "      <td>0.000000e+00</td>\n",
       "      <td>0.000000e+00</td>\n",
       "      <td>0.000000e+00</td>\n",
       "      <td>0.000000e+00</td>\n",
       "      <td>0.000000e+00</td>\n",
       "      <td>0.000000e+00</td>\n",
       "      <td>0.000000e+00</td>\n",
       "      <td>0.000000e+00</td>\n",
       "      <td>0.000000e+00</td>\n",
       "      <td>0.000000e+00</td>\n",
       "    </tr>\n",
       "    <tr>\n",
       "      <th>25%</th>\n",
       "      <td>6.000000e+00</td>\n",
       "      <td>1.600000e+01</td>\n",
       "      <td>2.375000e-01</td>\n",
       "      <td>0.000000e+00</td>\n",
       "      <td>0.000000e+00</td>\n",
       "      <td>0.000000e+00</td>\n",
       "      <td>0.000000e+00</td>\n",
       "      <td>0.000000e+00</td>\n",
       "      <td>0.000000e+00</td>\n",
       "      <td>0.000000e+00</td>\n",
       "      <td>0.000000e+00</td>\n",
       "      <td>0.000000e+00</td>\n",
       "      <td>0.000000e+00</td>\n",
       "      <td>0.000000e+00</td>\n",
       "    </tr>\n",
       "    <tr>\n",
       "      <th>50%</th>\n",
       "      <td>1.300000e+01</td>\n",
       "      <td>3.900000e+01</td>\n",
       "      <td>4.250000e-01</td>\n",
       "      <td>0.000000e+00</td>\n",
       "      <td>1.000000e+00</td>\n",
       "      <td>1.000000e+00</td>\n",
       "      <td>0.000000e+00</td>\n",
       "      <td>0.000000e+00</td>\n",
       "      <td>0.000000e+00</td>\n",
       "      <td>0.000000e+00</td>\n",
       "      <td>0.000000e+00</td>\n",
       "      <td>0.000000e+00</td>\n",
       "      <td>0.000000e+00</td>\n",
       "      <td>0.000000e+00</td>\n",
       "    </tr>\n",
       "    <tr>\n",
       "      <th>75%</th>\n",
       "      <td>1.900000e+01</td>\n",
       "      <td>5.100000e+01</td>\n",
       "      <td>5.875000e-01</td>\n",
       "      <td>1.000000e+00</td>\n",
       "      <td>1.000000e+00</td>\n",
       "      <td>1.000000e+00</td>\n",
       "      <td>0.000000e+00</td>\n",
       "      <td>0.000000e+00</td>\n",
       "      <td>0.000000e+00</td>\n",
       "      <td>0.000000e+00</td>\n",
       "      <td>0.000000e+00</td>\n",
       "      <td>0.000000e+00</td>\n",
       "      <td>1.000000e+00</td>\n",
       "      <td>1.000000e+00</td>\n",
       "    </tr>\n",
       "    <tr>\n",
       "      <th>max</th>\n",
       "      <td>2.500000e+01</td>\n",
       "      <td>6.800000e+01</td>\n",
       "      <td>1.000000e+00</td>\n",
       "      <td>1.000000e+00</td>\n",
       "      <td>1.000000e+00</td>\n",
       "      <td>1.000000e+00</td>\n",
       "      <td>1.000000e+00</td>\n",
       "      <td>1.000000e+00</td>\n",
       "      <td>1.000000e+00</td>\n",
       "      <td>1.000000e+00</td>\n",
       "      <td>1.000000e+00</td>\n",
       "      <td>1.000000e+00</td>\n",
       "      <td>1.000000e+00</td>\n",
       "      <td>1.000000e+00</td>\n",
       "    </tr>\n",
       "  </tbody>\n",
       "</table>\n",
       "</div>"
      ],
      "text/plain": [
       "           District        County    Voters_Age  Voters_Gender        vote08  \\\n",
       "count  9.235521e+06  9.235521e+06  9.235521e+06   9.235521e+06  9.235521e+06   \n",
       "mean   1.269016e+01  3.441942e+01  4.213903e-01   4.601492e-01  7.222461e-01   \n",
       "std    7.139123e+00  1.794370e+01  2.290823e-01   4.984094e-01  4.478914e-01   \n",
       "min    1.000000e+00  1.000000e+00  0.000000e+00   0.000000e+00  0.000000e+00   \n",
       "25%    6.000000e+00  1.600000e+01  2.375000e-01   0.000000e+00  0.000000e+00   \n",
       "50%    1.300000e+01  3.900000e+01  4.250000e-01   0.000000e+00  1.000000e+00   \n",
       "75%    1.900000e+01  5.100000e+01  5.875000e-01   1.000000e+00  1.000000e+00   \n",
       "max    2.500000e+01  6.800000e+01  1.000000e+00   1.000000e+00  1.000000e+00   \n",
       "\n",
       "             SR.WHI        SR.BLA        SR.HIS        SR.ASI        SR.NAT  \\\n",
       "count  9.235521e+06  9.235521e+06  9.235521e+06  9.235521e+06  9.235521e+06   \n",
       "mean   6.812650e-01  1.305151e-01  1.332630e-01  1.587241e-02  3.141891e-03   \n",
       "std    4.659861e-01  3.368693e-01  3.398587e-01  1.249819e-01  5.596445e-02   \n",
       "min    0.000000e+00  0.000000e+00  0.000000e+00  0.000000e+00  0.000000e+00   \n",
       "25%    0.000000e+00  0.000000e+00  0.000000e+00  0.000000e+00  0.000000e+00   \n",
       "50%    1.000000e+00  0.000000e+00  0.000000e+00  0.000000e+00  0.000000e+00   \n",
       "75%    1.000000e+00  0.000000e+00  0.000000e+00  0.000000e+00  0.000000e+00   \n",
       "max    1.000000e+00  1.000000e+00  1.000000e+00  1.000000e+00  1.000000e+00   \n",
       "\n",
       "             SR.OTH         Other      Democrat    Republican  \n",
       "count  9.235521e+06  9.235521e+06  9.235521e+06  9.235521e+06  \n",
       "mean   3.826249e-02  2.283238e-01  4.080179e-01  3.636583e-01  \n",
       "std    1.918293e-01  4.197524e-01  4.914665e-01  4.810519e-01  \n",
       "min    0.000000e+00  0.000000e+00  0.000000e+00  0.000000e+00  \n",
       "25%    0.000000e+00  0.000000e+00  0.000000e+00  0.000000e+00  \n",
       "50%    0.000000e+00  0.000000e+00  0.000000e+00  0.000000e+00  \n",
       "75%    0.000000e+00  0.000000e+00  1.000000e+00  1.000000e+00  \n",
       "max    1.000000e+00  1.000000e+00  1.000000e+00  1.000000e+00  "
      ]
     },
     "execution_count": 6,
     "metadata": {},
     "output_type": "execute_result"
    }
   ],
   "source": [
    "FlData.describe()"
   ]
  },
  {
   "cell_type": "markdown",
   "metadata": {},
   "source": [
    "# Compute Marginals and Joint Distributions"
   ]
  },
  {
   "cell_type": "markdown",
   "metadata": {},
   "source": [
    "Create a county dictionnary"
   ]
  },
  {
   "cell_type": "code",
   "execution_count": 7,
   "metadata": {
    "collapsed": false
   },
   "outputs": [],
   "source": [
    "Voters_By_County = {}\n",
    "all_counties = FlData.County.unique()\n",
    "for county in all_counties:\n",
    "    Voters_By_County[county] = FlData[FlData['County'] == county]"
   ]
  },
  {
   "cell_type": "markdown",
   "metadata": {},
   "source": [
    "Compute the ground truth joint distribution"
   ]
  },
  {
   "cell_type": "code",
   "execution_count": 8,
   "metadata": {
    "collapsed": false
   },
   "outputs": [],
   "source": [
    "J = {}\n",
    "for county in all_counties:\n",
    "    J[county] = np.zeros((6, 3))\n",
    "\n",
    "    J[county][0,0] = Voters_By_County[county].loc[(Voters_By_County[county]['Other'] ==1) & (Voters_By_County[county]['SR.WHI']==1)].shape[0]\n",
    "    J[county][0,1] = Voters_By_County[county].loc[(Voters_By_County[county]['Democrat'] ==1) & (Voters_By_County[county]['SR.WHI']==1)].shape[0]\n",
    "    J[county][0,2] = Voters_By_County[county].loc[(Voters_By_County[county]['Republican'] ==1) & (Voters_By_County[county]['SR.WHI']==1)].shape[0]\n",
    "\n",
    "    J[county][1,0] = Voters_By_County[county].loc[(Voters_By_County[county]['Other'] ==1) & (Voters_By_County[county]['SR.BLA']==1)].shape[0]\n",
    "    J[county][1,1] = Voters_By_County[county].loc[(Voters_By_County[county]['Democrat'] ==1) & (Voters_By_County[county]['SR.BLA']==1)].shape[0]\n",
    "    J[county][1,2] = Voters_By_County[county].loc[(Voters_By_County[county]['Republican'] ==1) & (Voters_By_County[county]['SR.BLA']==1)].shape[0]\n",
    "\n",
    "    J[county][2,0] = Voters_By_County[county].loc[(Voters_By_County[county]['Other'] ==1) & (Voters_By_County[county]['SR.HIS']==1)].shape[0]\n",
    "    J[county][2,1] = Voters_By_County[county].loc[(Voters_By_County[county]['Democrat'] ==1) & (Voters_By_County[county]['SR.HIS']==1)].shape[0]\n",
    "    J[county][2,2] = Voters_By_County[county].loc[(Voters_By_County[county]['Republican'] ==1) & (Voters_By_County[county]['SR.HIS']==1)].shape[0]\n",
    "\n",
    "    J[county][3,0] = Voters_By_County[county].loc[(Voters_By_County[county]['Other'] ==1) & (Voters_By_County[county]['SR.ASI']==1)].shape[0]\n",
    "    J[county][3,1] = Voters_By_County[county].loc[(Voters_By_County[county]['Democrat'] ==1) & (Voters_By_County[county]['SR.ASI']==1)].shape[0]\n",
    "    J[county][3,2] = Voters_By_County[county].loc[(Voters_By_County[county]['Republican'] ==1) & (Voters_By_County[county]['SR.ASI']==1)].shape[0]\n",
    "\n",
    "    J[county][4,0] = Voters_By_County[county].loc[(Voters_By_County[county]['Other'] ==1) &(Voters_By_County[county]['SR.NAT']==1)].shape[0]\n",
    "    J[county][4,1] = Voters_By_County[county].loc[(Voters_By_County[county]['Democrat'] ==1) & (Voters_By_County[county]['SR.NAT']==1)].shape[0]\n",
    "    J[county][4,2] = Voters_By_County[county].loc[(Voters_By_County[county]['Republican'] ==1) & (Voters_By_County[county]['SR.NAT']==1)].shape[0]\n",
    "\n",
    "    J[county][5,0] = Voters_By_County[county].loc[(Voters_By_County[county]['Other'] ==1) & (Voters_By_County[county]['SR.OTH']==1)].shape[0]\n",
    "    J[county][5,1] = Voters_By_County[county].loc[(Voters_By_County[county]['Democrat'] ==1) & (Voters_By_County[county]['SR.OTH']==1)].shape[0]\n",
    "    J[county][5,2] = Voters_By_County[county].loc[(Voters_By_County[county]['Republican'] ==1) & (Voters_By_County[county]['SR.OTH']==1)].shape[0]\n",
    "\n",
    "    J[county] /= J[county].sum()"
   ]
  },
  {
   "cell_type": "code",
   "execution_count": 9,
   "metadata": {
    "collapsed": false
   },
   "outputs": [
    {
     "name": "stdout",
     "output_type": "stream",
     "text": [
      "[[ 0.14002316  0.31636083  0.24990753]\n",
      " [ 0.01778736  0.14102832  0.00533942]\n",
      " [ 0.01595394  0.02251564  0.0117403 ]\n",
      " [ 0.01128194  0.01120957  0.00474437]\n",
      " [ 0.00099712  0.0018495   0.00104537]\n",
      " [ 0.01933933  0.02032037  0.00855594]]\n"
     ]
    }
   ],
   "source": [
    "print(J[12])"
   ]
  },
  {
   "cell_type": "markdown",
   "metadata": {},
   "source": [
    "Compute the party marginals"
   ]
  },
  {
   "cell_type": "code",
   "execution_count": 10,
   "metadata": {
    "collapsed": false
   },
   "outputs": [],
   "source": [
    "Party_Marginals = {}\n",
    "parties = ['Other', 'Democrat', 'Republican']\n",
    "for county in all_counties:\n",
    "    Party_Marginals[county] = pd.Series([J[county][:, i].sum()\n",
    "                                        for i in np.arange(3)])\n",
    "    Party_Marginals[county].index = parties"
   ]
  },
  {
   "cell_type": "markdown",
   "metadata": {},
   "source": [
    "Compute the ethnicity marginals"
   ]
  },
  {
   "cell_type": "code",
   "execution_count": 11,
   "metadata": {
    "collapsed": false
   },
   "outputs": [],
   "source": [
    "Ethnicity_Marginals = {}\n",
    "ethnies = ['SR.WHI', 'SR.BLA', 'SR.HIS', 'SR.ASI', 'SR.NAT', 'SR.OTH']\n",
    "for county in all_counties:\n",
    "    Ethnicity_Marginals[county] = pd.Series([J[county][i, :].sum()\n",
    "                                             for i in np.arange(6)])\n",
    "    Ethnicity_Marginals[county].index = ethnies"
   ]
  },
  {
   "cell_type": "markdown",
   "metadata": {},
   "source": [
    "# Compute the cost matrix\n",
    "Using only age, gender, and 2008 vote or abstention"
   ]
  },
  {
   "cell_type": "code",
   "execution_count": 12,
   "metadata": {
    "collapsed": false
   },
   "outputs": [],
   "source": [
    "features = ['Voters_Age', 'Voters_Gender', 'vote08']\n",
    "e_len, p_len = len(ethnies), len(parties)\n",
    "M = np.zeros((e_len, p_len))\n",
    "for i, e in enumerate(ethnies):\n",
    "    data_e = FlData[FlData[e] == 1.0]\n",
    "    average_by_e = data_e[features].mean(axis=0)\n",
    "    for j, p in enumerate(parties):\n",
    "        data_p = FlData[FlData[p] == 1.0]\n",
    "        average_by_p = data_p[features].mean(axis=0)\n",
    "\n",
    "        M[i, j] = np.array(dist.dist_2(average_by_e, average_by_p))"
   ]
  },
  {
   "cell_type": "markdown",
   "metadata": {},
   "source": [
    "# Start the inference"
   ]
  },
  {
   "cell_type": "markdown",
   "metadata": {},
   "source": [
    "Use a specific county or district to select the best parameters"
   ]
  },
  {
   "cell_type": "code",
   "execution_count": 13,
   "metadata": {
    "collapsed": true
   },
   "outputs": [],
   "source": [
    "CV_counties = FlData[FlData['District'] == 3].County.unique()\n",
    "del FlData"
   ]
  },
  {
   "cell_type": "markdown",
   "metadata": {},
   "source": [
    "Find the best parameters"
   ]
  },
  {
   "cell_type": "code",
   "execution_count": 14,
   "metadata": {
    "collapsed": false
   },
   "outputs": [
    {
     "name": "stdout",
     "output_type": "stream",
     "text": [
      "q: 0.50, lambda: 0.0100, KL: 0.1071, STD: 0.05664\n",
      "q: 0.50, lambda: 0.1000, KL: 0.1059, STD: 0.05582\n",
      "q: 0.50, lambda: 1.0000, KL: 0.09552, STD: 0.04817\n",
      "q: 0.50, lambda: 10.0000, KL: 0.09582, STD: 0.02227\n",
      "q: 0.50, lambda: 100.0000, KL: 0.3353, STD: 0.04494\n",
      "q: 0.60, lambda: 0.0100, KL: 0.1059, STD: 0.05514\n",
      "q: 0.60, lambda: 0.1000, KL: 0.1046, STD: 0.05431\n",
      "q: 0.60, lambda: 1.0000, KL: 0.09296, STD: 0.04666\n",
      "q: 0.60, lambda: 10.0000, KL: 0.1031, STD: 0.02173\n",
      "q: 0.60, lambda: 100.0000, KL: 0.3514, STD: 0.04774\n",
      "q: 0.70, lambda: 0.0100, KL: 0.105, STD: 0.0536\n",
      "q: 0.70, lambda: 0.1000, KL: 0.1035, STD: 0.05277\n",
      "q: 0.70, lambda: 1.0000, KL: 0.08997, STD: 0.04502\n",
      "q: 0.70, lambda: 10.0000, KL: 0.1164, STD: 0.02283\n",
      "q: 0.70, lambda: 100.0000, KL: 0.3659, STD: 0.05176\n",
      "q: 0.80, lambda: 0.0100, KL: 0.1045, STD: 0.05209\n",
      "q: 0.80, lambda: 0.1000, KL: 0.1026, STD: 0.05125\n",
      "q: 0.80, lambda: 1.0000, KL: 0.08665, STD: 0.04338\n",
      "q: 0.80, lambda: 10.0000, KL: 0.1372, STD: 0.02595\n",
      "q: 0.80, lambda: 100.0000, KL: 0.3761, STD: 0.05522\n",
      "q: 0.90, lambda: 0.0100, KL: 0.1048, STD: 0.05053\n",
      "q: 0.90, lambda: 0.1000, KL: 0.1024, STD: 0.04971\n",
      "q: 0.90, lambda: 1.0000, KL: 0.0831, STD: 0.04188\n",
      "q: 0.90, lambda: 10.0000, KL: 0.1658, STD: 0.03108\n",
      "q: 0.90, lambda: 100.0000, KL: 0.3809, STD: 0.05766\n",
      "q: 1.00, lambda: 0.0100, KL: 0.106, STD: 0.04939\n",
      "q: 1.00, lambda: 0.1000, KL: 0.103, STD: 0.04856\n",
      "q: 1.00, lambda: 1.0000, KL: 0.07924, STD: 0.04058\n",
      "q: 1.00, lambda: 10.0000, KL: 0.1987, STD: 0.0389\n",
      "q: 1.00, lambda: 100.0000, KL: 0.3821, STD: 0.05805\n",
      "q: 1.10, lambda: 0.0100, KL: 0.1063, STD: 0.04948\n",
      "q: 1.10, lambda: 0.1000, KL: 0.1063, STD: 0.04948\n",
      "q: 1.10, lambda: 1.0000, KL: 0.08008, STD: 0.04132\n",
      "q: 1.10, lambda: 10.0000, KL: 0.1139, STD: 0.01983\n",
      "q: 1.10, lambda: 100.0000, KL: 0.09512, STD: 0.01941\n",
      "q: 1.20, lambda: 0.0100, KL: 0.1063, STD: 0.04948\n",
      "q: 1.20, lambda: 0.1000, KL: 0.1063, STD: 0.04948\n",
      "q: 1.20, lambda: 1.0000, KL: 0.086, STD: 0.04046\n",
      "q: 1.20, lambda: 10.0000, KL: 0.1119, STD: 0.01891\n",
      "q: 1.20, lambda: 100.0000, KL: 0.09497, STD: 0.01936\n",
      "q: 1.30, lambda: 0.0100, KL: 0.1063, STD: 0.04948\n",
      "q: 1.30, lambda: 0.1000, KL: 0.1063, STD: 0.04948\n",
      "q: 1.30, lambda: 1.0000, KL: 0.0868, STD: 0.04087\n",
      "q: 1.30, lambda: 10.0000, KL: 0.1101, STD: 0.01829\n",
      "q: 1.30, lambda: 100.0000, KL: 0.09484, STD: 0.01933\n",
      "q: 1.40, lambda: 0.0100, KL: 0.1063, STD: 0.04948\n",
      "q: 1.40, lambda: 0.1000, KL: 0.1063, STD: 0.04948\n",
      "q: 1.40, lambda: 1.0000, KL: 0.08714, STD: 0.04066\n",
      "q: 1.40, lambda: 10.0000, KL: 0.1085, STD: 0.01788\n",
      "q: 1.40, lambda: 100.0000, KL: 0.09471, STD: 0.0193\n",
      "q: 1.50, lambda: 0.0100, KL: 0.1063, STD: 0.04948\n",
      "q: 1.50, lambda: 0.1000, KL: 0.1063, STD: 0.04948\n",
      "q: 1.50, lambda: 1.0000, KL: 0.08535, STD: 0.0361\n",
      "q: 1.50, lambda: 10.0000, KL: 0.1071, STD: 0.01762\n",
      "q: 1.50, lambda: 100.0000, KL: 0.0946, STD: 0.01929\n",
      "q: 1.60, lambda: 0.0100, KL: 0.1063, STD: 0.04948\n",
      "q: 1.60, lambda: 0.1000, KL: 0.1063, STD: 0.04948\n",
      "q: 1.60, lambda: 1.0000, KL: 0.08687, STD: 0.03614\n",
      "q: 1.60, lambda: 10.0000, KL: 0.1058, STD: 0.01748\n",
      "q: 1.60, lambda: 100.0000, KL: 0.09449, STD: 0.01928\n",
      "q: 1.70, lambda: 0.0100, KL: 0.1063, STD: 0.04948\n",
      "q: 1.70, lambda: 0.1000, KL: 0.1063, STD: 0.04948\n",
      "q: 1.70, lambda: 1.0000, KL: 0.09069, STD: 0.03329\n",
      "q: 1.70, lambda: 10.0000, KL: 0.1046, STD: 0.01741\n",
      "q: 1.70, lambda: 100.0000, KL: 0.0944, STD: 0.01928\n",
      "q: 1.80, lambda: 0.0100, KL: 0.1063, STD: 0.04948\n",
      "q: 1.80, lambda: 0.1000, KL: 0.1063, STD: 0.04948\n",
      "q: 1.80, lambda: 1.0000, KL: 0.09845, STD: 0.03208\n",
      "q: 1.80, lambda: 10.0000, KL: 0.1035, STD: 0.0174\n",
      "q: 1.80, lambda: 100.0000, KL: 0.0943, STD: 0.01928\n",
      "q: 1.90, lambda: 0.0100, KL: 0.1063, STD: 0.04948\n",
      "q: 1.90, lambda: 0.1000, KL: 0.1063, STD: 0.04948\n",
      "q: 1.90, lambda: 1.0000, KL: 0.1139, STD: 0.04102\n",
      "q: 1.90, lambda: 10.0000, KL: 0.1026, STD: 0.01743\n",
      "q: 1.90, lambda: 100.0000, KL: 0.09422, STD: 0.01929\n",
      "q: 2.00, lambda: 0.0100, KL: 0.1063, STD: 0.04948\n",
      "q: 2.00, lambda: 0.1000, KL: 0.1063, STD: 0.04948\n",
      "q: 2.00, lambda: 1.0000, KL: 0.1283, STD: 0.04448\n",
      "q: 2.00, lambda: 10.0000, KL: 0.1017, STD: 0.01749\n",
      "q: 2.00, lambda: 100.0000, KL: 0.09414, STD: 0.01929\n",
      "q: 2.10, lambda: 0.0100, KL: 0.1063, STD: 0.04948\n",
      "q: 2.10, lambda: 0.1000, KL: 0.1063, STD: 0.04948\n",
      "q: 2.10, lambda: 1.0000, KL: 0.1452, STD: 0.04583\n",
      "q: 2.10, lambda: 10.0000, KL: 0.1008, STD: 0.01757\n",
      "q: 2.10, lambda: 100.0000, KL: 0.09406, STD: 0.0193\n",
      "q: 2.20, lambda: 0.0100, KL: 0.1063, STD: 0.04948\n",
      "q: 2.20, lambda: 0.1000, KL: 0.1063, STD: 0.04948\n",
      "q: 2.20, lambda: 1.0000, KL: 0.1689, STD: 0.02522\n",
      "q: 2.20, lambda: 10.0000, KL: 0.1001, STD: 0.01766\n",
      "q: 2.20, lambda: 100.0000, KL: 0.094, STD: 0.01931\n",
      "q: 2.30, lambda: 0.0100, KL: 0.1063, STD: 0.04948\n",
      "q: 2.30, lambda: 0.1000, KL: 0.1063, STD: 0.04948\n",
      "q: 2.30, lambda: 1.0000, KL: 0.1678, STD: 0.02418\n",
      "q: 2.30, lambda: 10.0000, KL: 0.09942, STD: 0.01776\n",
      "q: 2.30, lambda: 100.0000, KL: 0.09393, STD: 0.01932\n",
      "q: 2.40, lambda: 0.0100, KL: 0.1063, STD: 0.04948\n",
      "q: 2.40, lambda: 0.1000, KL: 0.1063, STD: 0.04948\n",
      "q: 2.40, lambda: 1.0000, KL: 0.1645, STD: 0.02087\n",
      "q: 2.40, lambda: 10.0000, KL: 0.0988, STD: 0.01785\n",
      "q: 2.40, lambda: 100.0000, KL: 0.09388, STD: 0.01933\n",
      "q: 2.50, lambda: 0.0100, KL: 0.1063, STD: 0.04948\n",
      "q: 2.50, lambda: 0.1000, KL: 0.1063, STD: 0.04948\n",
      "q: 2.50, lambda: 1.0000, KL: 0.1581, STD: 0.02039\n",
      "q: 2.50, lambda: 10.0000, KL: 0.09825, STD: 0.01795\n",
      "q: 2.50, lambda: 100.0000, KL: 0.09383, STD: 0.01934\n",
      "q: 2.60, lambda: 0.0100, KL: 0.1063, STD: 0.04948\n",
      "q: 2.60, lambda: 0.1000, KL: 0.1063, STD: 0.04948\n",
      "q: 2.60, lambda: 1.0000, KL: 0.1504, STD: 0.0179\n",
      "q: 2.60, lambda: 10.0000, KL: 0.09774, STD: 0.01805\n",
      "q: 2.60, lambda: 100.0000, KL: 0.09378, STD: 0.01935\n",
      "q: 2.70, lambda: 0.0100, KL: 0.1063, STD: 0.04948\n",
      "q: 2.70, lambda: 0.1000, KL: 0.1063, STD: 0.04948\n",
      "q: 2.70, lambda: 1.0000, KL: 0.1438, STD: 0.0156\n",
      "q: 2.70, lambda: 10.0000, KL: 0.09729, STD: 0.01815\n",
      "q: 2.70, lambda: 100.0000, KL: 0.09374, STD: 0.01936\n",
      "q: 2.80, lambda: 0.0100, KL: 0.1063, STD: 0.04948\n",
      "q: 2.80, lambda: 0.1000, KL: 0.1063, STD: 0.04948\n",
      "q: 2.80, lambda: 1.0000, KL: 0.1379, STD: 0.01388\n",
      "q: 2.80, lambda: 10.0000, KL: 0.09688, STD: 0.01824\n",
      "q: 2.80, lambda: 100.0000, KL: 0.0937, STD: 0.01936\n",
      "q: 2.90, lambda: 0.0100, KL: 0.1063, STD: 0.04948\n",
      "q: 2.90, lambda: 0.1000, KL: 0.1063, STD: 0.04948\n",
      "q: 2.90, lambda: 1.0000, KL: 0.1327, STD: 0.01261\n",
      "q: 2.90, lambda: 10.0000, KL: 0.09651, STD: 0.01833\n",
      "q: 2.90, lambda: 100.0000, KL: 0.09366, STD: 0.01937\n",
      "q: 3.00, lambda: 0.0100, KL: 0.1063, STD: 0.04948\n",
      "q: 3.00, lambda: 0.1000, KL: 0.106, STD: 0.0493\n",
      "q: 3.00, lambda: 1.0000, KL: 0.1281, STD: 0.01178\n",
      "q: 3.00, lambda: 10.0000, KL: 0.09618, STD: 0.01841\n",
      "q: 3.00, lambda: 100.0000, KL: 0.09363, STD: 0.01938\n",
      "Best score: 0.07924, Best q: 1.00, Best lambda: 1.0000\t Standard Variance: 0.04058\n",
      "\n"
     ]
    }
   ],
   "source": [
    "q = np.arange(0.5, 3.1, 0.1)\n",
    "l = [0.01, 0.1, 1., 10., 100.] \n",
    "\n",
    "best_score, best_q, best_l = CV_Local_Inference(Voters_By_County, M, J, Ethnicity_Marginals, Party_Marginals,\n",
    "                   CV_counties,q,l)"
   ]
  },
  {
   "cell_type": "markdown",
   "metadata": {
    "collapsed": true
   },
   "source": [
    "Use selected parameters on the rest of the dataset"
   ]
  },
  {
   "cell_type": "code",
   "execution_count": 15,
   "metadata": {
    "collapsed": false
   },
   "outputs": [
    {
     "name": "stdout",
     "output_type": "stream",
     "text": [
      "Absolute error 0.00887520979305  +  0.00471122282927\n"
     ]
    }
   ],
   "source": [
    "J_inferred = Local_Inference(Voters_By_County, M, J, Ethnicity_Marginals, Party_Marginals, all_counties, best_q, best_l)\n",
    "kl, std = KL(J, J_inferred, all_counties, save_to_file=False, compute_abs_err=True)"
   ]
  },
  {
   "cell_type": "markdown",
   "metadata": {},
   "source": [
    "# Plot the results"
   ]
  },
  {
   "cell_type": "code",
   "execution_count": 16,
   "metadata": {
    "collapsed": false
   },
   "outputs": [],
   "source": [
    "diag = np.linspace(-0.1, 1.0, 100)\n",
    "\n",
    "# pickle results\n",
    "f = open('../Data/joints_gallup.pkl', 'rb')\n",
    "J_true, J = pickle.load(f)\n",
    "\n",
    "f = open('../Data/baseline.pkl', 'rb')\n",
    "J_baseline = pickle.load(f)\n",
    "\n",
    "j_true, j, j_baseline = [], [], []\n",
    "for c in all_counties:\n",
    "    j_true.append(np.array(J_true[c]).flatten())\n",
    "    j.append(np.array(J_inferred[c]).flatten())\n",
    "    j_baseline.append(np.array(J_baseline[c]).flatten())\n",
    "\n",
    "j_true = np.array(j_true).flatten()\n",
    "j = np.array(j).flatten()\n",
    "j_baseline = np.array(j_baseline).flatten()"
   ]
  },
  {
   "cell_type": "markdown",
   "metadata": {},
   "source": [
    "Plot the correlation between the ground truth for the joint distribution and the infered distribution (the closer to the $x = y$ diagonal axis, the better"
   ]
  },
  {
   "cell_type": "code",
   "execution_count": 17,
   "metadata": {
    "collapsed": false
   },
   "outputs": [
    {
     "data": {
      "image/png": "[encoded data removed]",
      "text/plain": [
       "<matplotlib.figure.Figure at 0x144d453c8>"
      ]
     },
     "metadata": {},
     "output_type": "display_data"
    }
   ],
   "source": [
    "plt.figure()\n",
    "plt.scatter(j_true, j, alpha=0.5)\n",
    "plt.xlabel('Ground truth')\n",
    "plt.ylabel('TROT (RBF)')\n",
    "plt.plot(diag, diag, 'r--')\n",
    "\n",
    "plt.show()"
   ]
  },
  {
   "cell_type": "markdown",
   "metadata": {},
   "source": [
    "Plot the distribution of the error (the more packed around the origin of the $x$-axis, the better)"
   ]
  },
  {
   "cell_type": "code",
   "execution_count": 18,
   "metadata": {
    "collapsed": false
   },
   "outputs": [
    {
     "data": {
      "image/png": "[encoded data removed]",
      "text/plain": [
       "<matplotlib.figure.Figure at 0x13889b278>"
      ]
     },
     "metadata": {},
     "output_type": "display_data"
    }
   ],
   "source": [
    "plt.figure()\n",
    "bins = np.arange(-.3, .6, 0.01)\n",
    "plt.hist(j_true - j, bins=bins, alpha=0.5, label='TROT')\n",
    "plt.hist(j_true - j_baseline, bins=bins, alpha=0.5, label='Florida-average')\n",
    "plt.legend()\n",
    "plt.xlabel('Difference between inference and ground truth')\n",
    "\n",
    "plt.show()"
   ]
  },
  {
   "cell_type": "markdown",
   "metadata": {},
   "source": [
    "# Survey-based ecological inference\n",
    "Same pipeline, but using a cost matrix computed thanks to the 2013 Gallup survey. (http://www.gallup.com/poll/160373/democrats-racially-diverse-republicans-mostly-white.aspx)\n",
    "\n",
    "We assume that Gallup's Other = {Native, Other}\n",
    "\n",
    "The cost matrix M is computed as $1-p_{ij}$, where $p_{ij}$ is the proportion of people registered to party $j$ belonging to group $i$."
   ]
  },
  {
   "cell_type": "code",
   "execution_count": 19,
   "metadata": {
    "collapsed": true
   },
   "outputs": [],
   "source": [
    "M_sur = np.array([\n",
    "               [.38, .26, .35],\n",
    "               [.29, .64, .05],\n",
    "               [.50, .32, .13],\n",
    "               [.46, .36, .17],\n",
    "               [.49, .32, .18],\n",
    "               [.49, .32, .18]\n",
    "               ])\n",
    "M_sur = (1. - M_sur)"
   ]
  },
  {
   "cell_type": "markdown",
   "metadata": {},
   "source": [
    "Once again, find the best parameters"
   ]
  },
  {
   "cell_type": "code",
   "execution_count": 20,
   "metadata": {
    "collapsed": false
   },
   "outputs": [
    {
     "name": "stdout",
     "output_type": "stream",
     "text": [
      "q: 0.50, lambda: 0.0100, KL: 0.1097, STD: 0.04583\n",
      "q: 0.50, lambda: 0.1000, KL: 0.1075, STD: 0.04441\n",
      "q: 0.50, lambda: 1.0000, KL: 0.0864, STD: 0.03165\n",
      "q: 0.50, lambda: 10.0000, KL: 0.004734, STD: 0.002929\n",
      "q: 0.50, lambda: 100.0000, KL: 0.07191, STD: 0.04125\n",
      "q: 0.60, lambda: 0.0100, KL: 0.1079, STD: 0.04319\n",
      "q: 0.60, lambda: 0.1000, KL: 0.1055, STD: 0.04176\n",
      "q: 0.60, lambda: 1.0000, KL: 0.08241, STD: 0.02893\n",
      "q: 0.60, lambda: 10.0000, KL: 0.002511, STD: 0.00117\n",
      "q: 0.60, lambda: 100.0000, KL: 0.08426, STD: 0.04423\n",
      "q: 0.70, lambda: 0.0100, KL: 0.1062, STD: 0.04035\n",
      "q: 0.70, lambda: 0.1000, KL: 0.1035, STD: 0.0389\n",
      "q: 0.70, lambda: 1.0000, KL: 0.07761, STD: 0.02592\n",
      "q: 0.70, lambda: 10.0000, KL: 0.00247, STD: 0.002285\n",
      "q: 0.70, lambda: 100.0000, KL: 0.09857, STD: 0.04825\n",
      "q: 0.80, lambda: 0.0100, KL: 0.1049, STD: 0.03737\n",
      "q: 0.80, lambda: 0.1000, KL: 0.1017, STD: 0.0359\n",
      "q: 0.80, lambda: 1.0000, KL: 0.07217, STD: 0.0229\n",
      "q: 0.80, lambda: 10.0000, KL: 0.006265, STD: 0.005058\n",
      "q: 0.80, lambda: 100.0000, KL: 0.1143, STD: 0.05327\n",
      "q: 0.90, lambda: 0.0100, KL: 0.1042, STD: 0.03442\n",
      "q: 0.90, lambda: 0.1000, KL: 0.1004, STD: 0.03297\n",
      "q: 0.90, lambda: 1.0000, KL: 0.06625, STD: 0.02025\n",
      "q: 0.90, lambda: 10.0000, KL: 0.01525, STD: 0.008515\n",
      "q: 0.90, lambda: 100.0000, KL: 0.131, STD: 0.05982\n",
      "q: 1.00, lambda: 0.0100, KL: 0.1043, STD: 0.03184\n",
      "q: 1.00, lambda: 0.1000, KL: 0.09983, STD: 0.03044\n",
      "q: 1.00, lambda: 1.0000, KL: 0.06002, STD: 0.01841\n",
      "q: 1.00, lambda: 10.0000, KL: 0.02943, STD: 0.01296\n",
      "q: 1.00, lambda: 100.0000, KL: 0.1477, STD: 0.06865\n",
      "q: 1.10, lambda: 0.0100, KL: 0.1048, STD: 0.032\n",
      "q: 1.10, lambda: 0.1000, KL: 0.1048, STD: 0.032\n",
      "q: 1.10, lambda: 1.0000, KL: 0.05975, STD: 0.01973\n",
      "q: 1.10, lambda: 10.0000, KL: 0.001633, STD: 0.0009361\n",
      "q: 1.10, lambda: 100.0000, KL: -0.0002355, STD: 0.0001487\n",
      "q: 1.20, lambda: 0.0100, KL: 0.1048, STD: 0.032\n",
      "q: 1.20, lambda: 0.1000, KL: 0.1048, STD: 0.032\n",
      "q: 1.20, lambda: 1.0000, KL: 0.05656, STD: 0.02264\n",
      "q: 1.20, lambda: 10.0000, KL: 0.00116, STD: 0.0007934\n",
      "q: 1.20, lambda: 100.0000, KL: -0.0002406, STD: 0.0001499\n",
      "q: 1.30, lambda: 0.0100, KL: 0.1048, STD: 0.032\n",
      "q: 1.30, lambda: 0.1000, KL: 0.1048, STD: 0.032\n",
      "q: 1.30, lambda: 1.0000, KL: 0.05847, STD: 0.02241\n",
      "q: 1.30, lambda: 10.0000, KL: 0.000846, STD: 0.0006768\n",
      "q: 1.30, lambda: 100.0000, KL: -0.0002437, STD: 0.0001503\n",
      "q: 1.40, lambda: 0.0100, KL: 0.1048, STD: 0.032\n",
      "q: 1.40, lambda: 0.1000, KL: 0.1048, STD: 0.032\n",
      "q: 1.40, lambda: 1.0000, KL: 0.05199, STD: 0.01838\n",
      "q: 1.40, lambda: 10.0000, KL: 0.0006255, STD: 0.0005863\n",
      "q: 1.40, lambda: 100.0000, KL: -0.0002456, STD: 0.0001504\n",
      "q: 1.50, lambda: 0.0100, KL: 0.1048, STD: 0.032\n",
      "q: 1.50, lambda: 0.1000, KL: 0.1048, STD: 0.032\n",
      "q: 1.50, lambda: 1.0000, KL: 0.05025, STD: 0.01854\n",
      "q: 1.50, lambda: 10.0000, KL: 0.0004625, STD: 0.0005165\n",
      "q: 1.50, lambda: 100.0000, KL: -0.0002468, STD: 0.0001503\n",
      "q: 1.60, lambda: 0.0100, KL: 0.1048, STD: 0.032\n",
      "q: 1.60, lambda: 0.1000, KL: 0.1048, STD: 0.032\n",
      "q: 1.60, lambda: 1.0000, KL: 0.04111, STD: 0.02073\n",
      "q: 1.60, lambda: 10.0000, KL: 0.0003367, STD: 0.0004613\n",
      "q: 1.60, lambda: 100.0000, KL: -0.0002475, STD: 0.0001502\n",
      "q: 1.70, lambda: 0.0100, KL: 0.1048, STD: 0.032\n",
      "q: 1.70, lambda: 0.1000, KL: 0.1048, STD: 0.032\n",
      "q: 1.70, lambda: 1.0000, KL: 0.03583, STD: 0.02236\n",
      "q: 1.70, lambda: 10.0000, KL: 0.0002364, STD: 0.0004161\n",
      "q: 1.70, lambda: 100.0000, KL: -0.000248, STD: 0.0001501\n",
      "q: 1.80, lambda: 0.0100, KL: 0.1048, STD: 0.032\n",
      "q: 1.80, lambda: 0.1000, KL: 0.1048, STD: 0.032\n",
      "q: 1.80, lambda: 1.0000, KL: 0.03165, STD: 0.02321\n",
      "q: 1.80, lambda: 10.0000, KL: 0.0001545, STD: 0.0003779\n",
      "q: 1.80, lambda: 100.0000, KL: -0.0002483, STD: 0.00015\n",
      "q: 1.90, lambda: 0.0100, KL: 0.1048, STD: 0.032\n",
      "q: 1.90, lambda: 0.1000, KL: 0.1048, STD: 0.032\n",
      "q: 1.90, lambda: 1.0000, KL: 0.02952, STD: 0.02511\n",
      "q: 1.90, lambda: 10.0000, KL: 8.664e-05, STD: 0.0003448\n",
      "q: 1.90, lambda: 100.0000, KL: -0.0002485, STD: 0.0001499\n",
      "q: 2.00, lambda: 0.0100, KL: 0.1048, STD: 0.032\n",
      "q: 2.00, lambda: 0.1000, KL: 0.1048, STD: 0.032\n",
      "q: 2.00, lambda: 1.0000, KL: 0.02977, STD: 0.02427\n",
      "q: 2.00, lambda: 10.0000, KL: 2.997e-05, STD: 0.0003159\n",
      "q: 2.00, lambda: 100.0000, KL: -0.0002486, STD: 0.0001498\n",
      "q: 2.10, lambda: 0.0100, KL: 0.1048, STD: 0.032\n",
      "q: 2.10, lambda: 0.1000, KL: 0.1048, STD: 0.032\n",
      "q: 2.10, lambda: 1.0000, KL: 0.02913, STD: 0.02222\n",
      "q: 2.10, lambda: 10.0000, KL: -1.755e-05, STD: 0.0002907\n",
      "q: 2.10, lambda: 100.0000, KL: -0.0002486, STD: 0.0001498\n",
      "q: 2.20, lambda: 0.0100, KL: 0.1048, STD: 0.032\n",
      "q: 2.20, lambda: 0.1000, KL: 0.1048, STD: 0.032\n",
      "q: 2.20, lambda: 1.0000, KL: 0.02697, STD: 0.02172\n",
      "q: 2.20, lambda: 10.0000, KL: -5.743e-05, STD: 0.0002686\n",
      "q: 2.20, lambda: 100.0000, KL: -0.0002486, STD: 0.0001498\n",
      "q: 2.30, lambda: 0.0100, KL: 0.1048, STD: 0.032\n",
      "q: 2.30, lambda: 0.1000, KL: 0.1048, STD: 0.032\n",
      "q: 2.30, lambda: 1.0000, KL: 0.02364, STD: 0.02224\n",
      "q: 2.30, lambda: 10.0000, KL: -9.087e-05, STD: 0.0002496\n",
      "q: 2.30, lambda: 100.0000, KL: -0.0002485, STD: 0.0001498\n",
      "q: 2.40, lambda: 0.0100, KL: 0.1048, STD: 0.032\n",
      "q: 2.40, lambda: 0.1000, KL: 0.1048, STD: 0.032\n",
      "q: 2.40, lambda: 1.0000, KL: 0.01562, STD: 0.009386\n",
      "q: 2.40, lambda: 10.0000, KL: -0.0001189, STD: 0.0002332\n",
      "q: 2.40, lambda: 100.0000, KL: -0.0002485, STD: 0.0001498\n",
      "q: 2.50, lambda: 0.0100, KL: 0.1048, STD: 0.032\n",
      "q: 2.50, lambda: 0.1000, KL: 0.1048, STD: 0.032\n",
      "q: 2.50, lambda: 1.0000, KL: 0.0105, STD: 0.005298\n",
      "q: 2.50, lambda: 10.0000, KL: -0.0001422, STD: 0.0002193\n",
      "q: 2.50, lambda: 100.0000, KL: -0.0002484, STD: 0.0001498\n",
      "q: 2.60, lambda: 0.0100, KL: 0.1048, STD: 0.032\n",
      "q: 2.60, lambda: 0.1000, KL: 0.1048, STD: 0.032\n",
      "q: 2.60, lambda: 1.0000, KL: 0.01072, STD: 0.007374\n",
      "q: 2.60, lambda: 10.0000, KL: -0.0001617, STD: 0.0002076\n",
      "q: 2.60, lambda: 100.0000, KL: -0.0002482, STD: 0.0001498\n",
      "q: 2.70, lambda: 0.0100, KL: 0.1048, STD: 0.032\n",
      "q: 2.70, lambda: 0.1000, KL: 0.1048, STD: 0.032\n",
      "q: 2.70, lambda: 1.0000, KL: 0.008948, STD: 0.006724\n",
      "q: 2.70, lambda: 10.0000, KL: -0.0001778, STD: 0.0001977\n",
      "q: 2.70, lambda: 100.0000, KL: -0.0002481, STD: 0.0001498\n",
      "q: 2.80, lambda: 0.0100, KL: 0.1048, STD: 0.032\n",
      "q: 2.80, lambda: 0.1000, KL: 0.1048, STD: 0.032\n",
      "q: 2.80, lambda: 1.0000, KL: 0.007467, STD: 0.006115\n",
      "q: 2.80, lambda: 10.0000, KL: -0.0001912, STD: 0.0001895\n",
      "q: 2.80, lambda: 100.0000, KL: -0.000248, STD: 0.0001498\n",
      "q: 2.90, lambda: 0.0100, KL: 0.1048, STD: 0.032\n",
      "q: 2.90, lambda: 0.1000, KL: 0.1048, STD: 0.032\n",
      "q: 2.90, lambda: 1.0000, KL: 0.006226, STD: 0.005541\n",
      "q: 2.90, lambda: 10.0000, KL: -0.0002022, STD: 0.0001826\n",
      "q: 2.90, lambda: 100.0000, KL: -0.0002479, STD: 0.0001499\n",
      "q: 3.00, lambda: 0.0100, KL: 0.1048, STD: 0.032\n",
      "q: 3.00, lambda: 0.1000, KL: 0.1013, STD: 0.03029\n",
      "q: 3.00, lambda: 1.0000, KL: 0.005186, STD: 0.005001\n",
      "q: 3.00, lambda: 10.0000, KL: -0.0002113, STD: 0.000177\n",
      "q: 3.00, lambda: 100.0000, KL: -0.0002477, STD: 0.0001499\n",
      "Best score: -0.0002486, Best q: 2.10, Best lambda: 100.0000\t Standard Variance: 0.0001498\n",
      "\n"
     ]
    }
   ],
   "source": [
    "best_score, best_q, best_l = CV_Local_Inference(Voters_By_County, M_sur, J, Ethnicity_Marginals, Party_Marginals,\n",
    "                   CV_counties,q,l)"
   ]
  },
  {
   "cell_type": "markdown",
   "metadata": {},
   "source": [
    "Using these parameters, run the inference on the rest of the dataset"
   ]
  },
  {
   "cell_type": "code",
   "execution_count": null,
   "metadata": {
    "collapsed": false
   },
   "outputs": [],
   "source": [
    "J_sur = Local_Inference(Voters_By_County, M_sur, J, Ethnicity_Marginals, Party_Marginals, all_counties, best_q, best_l)\n",
    "kl, std = KL(J, J_sur, all_counties, save_to_file=False, compute_abs_err=True)"
   ]
  },
  {
   "cell_type": "markdown",
   "metadata": {},
   "source": [
    "Plot correlation with ground truth"
   ]
  },
  {
   "cell_type": "code",
   "execution_count": null,
   "metadata": {
    "collapsed": true
   },
   "outputs": [],
   "source": [
    "j_sur = []\n",
    "for c in all_counties:\n",
    "    j_sur.append(np.array(J_sur[c]).flatten())\n",
    "\n",
    "j_sur = np.array(j_sur).flatten()\n",
    "\n",
    "plt.figure()\n",
    "plt.scatter(j_true, j_sur, alpha=0.5)\n",
    "plt.xlabel('Ground truth')\n",
    "plt.ylabel('TROT (survey)')\n",
    "plt.plot(diag, diag, 'r--')\n",
    "\n",
    "plt.show()\n",
    "    "
   ]
  },
  {
   "cell_type": "markdown",
   "metadata": {},
   "source": [
    "Plot error distribution (compared with Florida average)"
   ]
  },
  {
   "cell_type": "code",
   "execution_count": null,
   "metadata": {
    "collapsed": false
   },
   "outputs": [],
   "source": [
    "plt.figure()\n",
    "bins = np.arange(-.3, .6, 0.01)\n",
    "plt.hist(j_true - j_sur, bins=bins, alpha=0.5, label='TROT (survey)')\n",
    "plt.hist(j_true - j_baseline, bins=bins, alpha=0.5, label='Florida-average')\n",
    "plt.legend()\n",
    "plt.xlabel('Difference between inference and ground truth')\n",
    "\n",
    "plt.show()"
   ]
  }
 ],
 "metadata": {
  "anaconda-cloud": {},
  "kernelspec": {
   "display_name": "Python [default]",
   "language": "python",
   "name": "python3"
  },
  "language_info": {
   "codemirror_mode": {
    "name": "ipython",
    "version": 3
   },
   "file_extension": ".py",
   "mimetype": "text/x-python",
   "name": "python",
   "nbconvert_exporter": "python",
   "pygments_lexer": "ipython3",
   "version": "3.5.2"
  }
 },
 "nbformat": 4,
 "nbformat_minor": 0
}
