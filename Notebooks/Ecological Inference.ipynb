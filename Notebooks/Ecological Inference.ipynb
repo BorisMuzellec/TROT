{
 "cells": [
  {
   "cell_type": "markdown",
   "metadata": {
    "collapsed": true
   },
   "source": [
    "# Ecological Inference through Tsallis Regularized Optimal Transport (TROT)\n",
    "This notebook presents the pipeline used in (cite our paper) to perform ecological inference on the Florida dataset.\n",
    "\n",
    "You will first want to download the dataset from (url to the dataset)"
   ]
  },
  {
   "cell_type": "code",
   "execution_count": 13,
   "metadata": {
    "collapsed": false
   },
   "outputs": [],
   "source": [
    "import pandas as pd\n",
    "import numpy as np\n",
    "import pickle\n",
    "import Distances as dist\n",
    "from matplotlib import pyplot as plt\n",
    "from matplotlib.pylab import savefig\n",
    "from Florida_inference import CV_Local_Inference, Local_Inference\n",
    "from Evaluation import KL"
   ]
  },
  {
   "cell_type": "markdown",
   "metadata": {},
   "source": [
    "# Data Loading and Processing"
   ]
  },
  {
   "cell_type": "code",
   "execution_count": 14,
   "metadata": {
    "collapsed": false
   },
   "outputs": [],
   "source": [
    "FlData = pd.read_csv('Fl_Data.csv', usecols = ['District', 'County','Voters_Age', 'Voters_Gender', 'PID', 'vote08', \n",
    "                    'SR.WHI', 'SR.BLA', 'SR.HIS', 'SR.ASI', 'SR.NAT', 'SR.OTH'],nrows = 200000)\n",
    "\n",
    "FlData = FlData.dropna()"
   ]
  },
  {
   "cell_type": "markdown",
   "metadata": {},
   "source": [
    "Change gender values to numerical values"
   ]
  },
  {
   "cell_type": "code",
   "execution_count": 15,
   "metadata": {
    "collapsed": true
   },
   "outputs": [],
   "source": [
    "FlData['Voters_Gender'] = FlData['Voters_Gender'].map({'M': 1, 'F': 0})"
   ]
  },
  {
   "cell_type": "markdown",
   "metadata": {},
   "source": [
    "Renormalize the age so that it takes values between 0 and 1"
   ]
  },
  {
   "cell_type": "code",
   "execution_count": 16,
   "metadata": {
    "collapsed": true
   },
   "outputs": [],
   "source": [
    "FlData['Voters_Age'] = ((FlData['Voters_Age'] -\n",
    "                         FlData['Voters_Age'].min()) /\n",
    "                        (FlData['Voters_Age'].max() -\n",
    "                         FlData['Voters_Age'].min()))\n"
   ]
  },
  {
   "cell_type": "markdown",
   "metadata": {},
   "source": [
    "One-hot party subscriptions (PID)"
   ]
  },
  {
   "cell_type": "code",
   "execution_count": 17,
   "metadata": {
    "collapsed": true
   },
   "outputs": [],
   "source": [
    "#Get one hot encoding of column PID\n",
    "one_hot = pd.get_dummies(FlData['PID'])\n",
    "# Drop column PID as it is now encoded\n",
    "FlData = FlData.drop('PID', axis=1)\n",
    "# Join the encoded df\n",
    "FlData = FlData.join(one_hot)\n",
    "# Rename the new columns\n",
    "FlData.rename(columns={0: 'Other', 1: 'Democrat', 2: 'Republican'},\n",
    "              inplace=True)"
   ]
  },
  {
   "cell_type": "code",
   "execution_count": 18,
   "metadata": {
    "collapsed": false
   },
   "outputs": [
    {
     "data": {
      "text/html": [
       "<div>\n",
       "<table border=\"1\" class=\"dataframe\">\n",
       "  <thead>\n",
       "    <tr style=\"text-align: right;\">\n",
       "      <th></th>\n",
       "      <th>District</th>\n",
       "      <th>County</th>\n",
       "      <th>Voters_Age</th>\n",
       "      <th>Voters_Gender</th>\n",
       "      <th>vote08</th>\n",
       "      <th>SR.WHI</th>\n",
       "      <th>SR.BLA</th>\n",
       "      <th>SR.HIS</th>\n",
       "      <th>SR.ASI</th>\n",
       "      <th>SR.NAT</th>\n",
       "      <th>SR.OTH</th>\n",
       "      <th>Other</th>\n",
       "      <th>Democrat</th>\n",
       "      <th>Republican</th>\n",
       "    </tr>\n",
       "  </thead>\n",
       "  <tbody>\n",
       "    <tr>\n",
       "      <th>count</th>\n",
       "      <td>181846.000000</td>\n",
       "      <td>181846.000000</td>\n",
       "      <td>181846.000000</td>\n",
       "      <td>181846.000000</td>\n",
       "      <td>181846.000000</td>\n",
       "      <td>181846.000000</td>\n",
       "      <td>181846.000000</td>\n",
       "      <td>181846.000000</td>\n",
       "      <td>181846.000000</td>\n",
       "      <td>181846.000000</td>\n",
       "      <td>181846.000000</td>\n",
       "      <td>181846.000000</td>\n",
       "      <td>181846.000000</td>\n",
       "      <td>181846.000000</td>\n",
       "    </tr>\n",
       "    <tr>\n",
       "      <th>mean</th>\n",
       "      <td>6.543911</td>\n",
       "      <td>26.616104</td>\n",
       "      <td>0.377654</td>\n",
       "      <td>0.456672</td>\n",
       "      <td>0.749695</td>\n",
       "      <td>0.768194</td>\n",
       "      <td>0.117973</td>\n",
       "      <td>0.049888</td>\n",
       "      <td>0.021683</td>\n",
       "      <td>0.003745</td>\n",
       "      <td>0.041035</td>\n",
       "      <td>0.226807</td>\n",
       "      <td>0.473038</td>\n",
       "      <td>0.300155</td>\n",
       "    </tr>\n",
       "    <tr>\n",
       "      <th>std</th>\n",
       "      <td>1.905905</td>\n",
       "      <td>21.417582</td>\n",
       "      <td>0.237857</td>\n",
       "      <td>0.498121</td>\n",
       "      <td>0.433190</td>\n",
       "      <td>0.421987</td>\n",
       "      <td>0.322578</td>\n",
       "      <td>0.217715</td>\n",
       "      <td>0.145647</td>\n",
       "      <td>0.061081</td>\n",
       "      <td>0.198371</td>\n",
       "      <td>0.418768</td>\n",
       "      <td>0.499274</td>\n",
       "      <td>0.458326</td>\n",
       "    </tr>\n",
       "    <tr>\n",
       "      <th>min</th>\n",
       "      <td>3.000000</td>\n",
       "      <td>12.000000</td>\n",
       "      <td>0.000000</td>\n",
       "      <td>0.000000</td>\n",
       "      <td>0.000000</td>\n",
       "      <td>0.000000</td>\n",
       "      <td>0.000000</td>\n",
       "      <td>0.000000</td>\n",
       "      <td>0.000000</td>\n",
       "      <td>0.000000</td>\n",
       "      <td>0.000000</td>\n",
       "      <td>0.000000</td>\n",
       "      <td>0.000000</td>\n",
       "      <td>0.000000</td>\n",
       "    </tr>\n",
       "    <tr>\n",
       "      <th>25%</th>\n",
       "      <td>6.000000</td>\n",
       "      <td>12.000000</td>\n",
       "      <td>0.162500</td>\n",
       "      <td>0.000000</td>\n",
       "      <td>0.000000</td>\n",
       "      <td>1.000000</td>\n",
       "      <td>0.000000</td>\n",
       "      <td>0.000000</td>\n",
       "      <td>0.000000</td>\n",
       "      <td>0.000000</td>\n",
       "      <td>0.000000</td>\n",
       "      <td>0.000000</td>\n",
       "      <td>0.000000</td>\n",
       "      <td>0.000000</td>\n",
       "    </tr>\n",
       "    <tr>\n",
       "      <th>50%</th>\n",
       "      <td>6.000000</td>\n",
       "      <td>12.000000</td>\n",
       "      <td>0.375000</td>\n",
       "      <td>0.000000</td>\n",
       "      <td>1.000000</td>\n",
       "      <td>1.000000</td>\n",
       "      <td>0.000000</td>\n",
       "      <td>0.000000</td>\n",
       "      <td>0.000000</td>\n",
       "      <td>0.000000</td>\n",
       "      <td>0.000000</td>\n",
       "      <td>0.000000</td>\n",
       "      <td>0.000000</td>\n",
       "      <td>0.000000</td>\n",
       "    </tr>\n",
       "    <tr>\n",
       "      <th>75%</th>\n",
       "      <td>9.000000</td>\n",
       "      <td>58.000000</td>\n",
       "      <td>0.562500</td>\n",
       "      <td>1.000000</td>\n",
       "      <td>1.000000</td>\n",
       "      <td>1.000000</td>\n",
       "      <td>0.000000</td>\n",
       "      <td>0.000000</td>\n",
       "      <td>0.000000</td>\n",
       "      <td>0.000000</td>\n",
       "      <td>0.000000</td>\n",
       "      <td>0.000000</td>\n",
       "      <td>1.000000</td>\n",
       "      <td>1.000000</td>\n",
       "    </tr>\n",
       "    <tr>\n",
       "      <th>max</th>\n",
       "      <td>9.000000</td>\n",
       "      <td>58.000000</td>\n",
       "      <td>1.000000</td>\n",
       "      <td>1.000000</td>\n",
       "      <td>1.000000</td>\n",
       "      <td>1.000000</td>\n",
       "      <td>1.000000</td>\n",
       "      <td>1.000000</td>\n",
       "      <td>1.000000</td>\n",
       "      <td>1.000000</td>\n",
       "      <td>1.000000</td>\n",
       "      <td>1.000000</td>\n",
       "      <td>1.000000</td>\n",
       "      <td>1.000000</td>\n",
       "    </tr>\n",
       "  </tbody>\n",
       "</table>\n",
       "</div>"
      ],
      "text/plain": [
       "            District         County     Voters_Age  Voters_Gender  \\\n",
       "count  181846.000000  181846.000000  181846.000000  181846.000000   \n",
       "mean        6.543911      26.616104       0.377654       0.456672   \n",
       "std         1.905905      21.417582       0.237857       0.498121   \n",
       "min         3.000000      12.000000       0.000000       0.000000   \n",
       "25%         6.000000      12.000000       0.162500       0.000000   \n",
       "50%         6.000000      12.000000       0.375000       0.000000   \n",
       "75%         9.000000      58.000000       0.562500       1.000000   \n",
       "max         9.000000      58.000000       1.000000       1.000000   \n",
       "\n",
       "              vote08         SR.WHI         SR.BLA         SR.HIS  \\\n",
       "count  181846.000000  181846.000000  181846.000000  181846.000000   \n",
       "mean        0.749695       0.768194       0.117973       0.049888   \n",
       "std         0.433190       0.421987       0.322578       0.217715   \n",
       "min         0.000000       0.000000       0.000000       0.000000   \n",
       "25%         0.000000       1.000000       0.000000       0.000000   \n",
       "50%         1.000000       1.000000       0.000000       0.000000   \n",
       "75%         1.000000       1.000000       0.000000       0.000000   \n",
       "max         1.000000       1.000000       1.000000       1.000000   \n",
       "\n",
       "              SR.ASI         SR.NAT         SR.OTH          Other  \\\n",
       "count  181846.000000  181846.000000  181846.000000  181846.000000   \n",
       "mean        0.021683       0.003745       0.041035       0.226807   \n",
       "std         0.145647       0.061081       0.198371       0.418768   \n",
       "min         0.000000       0.000000       0.000000       0.000000   \n",
       "25%         0.000000       0.000000       0.000000       0.000000   \n",
       "50%         0.000000       0.000000       0.000000       0.000000   \n",
       "75%         0.000000       0.000000       0.000000       0.000000   \n",
       "max         1.000000       1.000000       1.000000       1.000000   \n",
       "\n",
       "            Democrat     Republican  \n",
       "count  181846.000000  181846.000000  \n",
       "mean        0.473038       0.300155  \n",
       "std         0.499274       0.458326  \n",
       "min         0.000000       0.000000  \n",
       "25%         0.000000       0.000000  \n",
       "50%         0.000000       0.000000  \n",
       "75%         1.000000       1.000000  \n",
       "max         1.000000       1.000000  "
      ]
     },
     "execution_count": 18,
     "metadata": {},
     "output_type": "execute_result"
    }
   ],
   "source": [
    "FlData.describe()"
   ]
  },
  {
   "cell_type": "markdown",
   "metadata": {},
   "source": [
    "# Compute Marginals and Joint Distributions"
   ]
  },
  {
   "cell_type": "markdown",
   "metadata": {},
   "source": [
    "Create a county dictionnary"
   ]
  },
  {
   "cell_type": "code",
   "execution_count": 19,
   "metadata": {
    "collapsed": false
   },
   "outputs": [],
   "source": [
    "Voters_By_County = {}\n",
    "all_counties = FlData.County.unique()\n",
    "for county in all_counties:\n",
    "    Voters_By_County[county] = FlData[FlData['County'] == county]"
   ]
  },
  {
   "cell_type": "markdown",
   "metadata": {},
   "source": [
    "Compute the ground truth joint distribution"
   ]
  },
  {
   "cell_type": "code",
   "execution_count": 20,
   "metadata": {
    "collapsed": false
   },
   "outputs": [],
   "source": [
    "J = {}\n",
    "for county in all_counties:\n",
    "    J[county] = np.zeros((6, 3))\n",
    "\n",
    "    J[county][0,0] = Voters_By_County[county].loc[(Voters_By_County[county]['Other'] ==1) & (Voters_By_County[county]['SR.WHI']==1)].shape[0]\n",
    "    J[county][0,1] = Voters_By_County[county].loc[(Voters_By_County[county]['Democrat'] ==1) & (Voters_By_County[county]['SR.WHI']==1)].shape[0]\n",
    "    J[county][0,2] = Voters_By_County[county].loc[(Voters_By_County[county]['Republican'] ==1) & (Voters_By_County[county]['SR.WHI']==1)].shape[0]\n",
    "\n",
    "    J[county][1,0] = Voters_By_County[county].loc[(Voters_By_County[county]['Other'] ==1) & (Voters_By_County[county]['SR.BLA']==1)].shape[0]\n",
    "    J[county][1,1] = Voters_By_County[county].loc[(Voters_By_County[county]['Democrat'] ==1) & (Voters_By_County[county]['SR.BLA']==1)].shape[0]\n",
    "    J[county][1,2] = Voters_By_County[county].loc[(Voters_By_County[county]['Republican'] ==1) & (Voters_By_County[county]['SR.BLA']==1)].shape[0]\n",
    "\n",
    "    J[county][2,0] = Voters_By_County[county].loc[(Voters_By_County[county]['Other'] ==1) & (Voters_By_County[county]['SR.HIS']==1)].shape[0]\n",
    "    J[county][2,1] = Voters_By_County[county].loc[(Voters_By_County[county]['Democrat'] ==1) & (Voters_By_County[county]['SR.HIS']==1)].shape[0]\n",
    "    J[county][2,2] = Voters_By_County[county].loc[(Voters_By_County[county]['Republican'] ==1) & (Voters_By_County[county]['SR.HIS']==1)].shape[0]\n",
    "\n",
    "    J[county][3,0] = Voters_By_County[county].loc[(Voters_By_County[county]['Other'] ==1) & (Voters_By_County[county]['SR.ASI']==1)].shape[0]\n",
    "    J[county][3,1] = Voters_By_County[county].loc[(Voters_By_County[county]['Democrat'] ==1) & (Voters_By_County[county]['SR.ASI']==1)].shape[0]\n",
    "    J[county][3,2] = Voters_By_County[county].loc[(Voters_By_County[county]['Republican'] ==1) & (Voters_By_County[county]['SR.ASI']==1)].shape[0]\n",
    "\n",
    "    J[county][4,0] = Voters_By_County[county].loc[(Voters_By_County[county]['Other'] ==1) &(Voters_By_County[county]['SR.NAT']==1)].shape[0]\n",
    "    J[county][4,1] = Voters_By_County[county].loc[(Voters_By_County[county]['Democrat'] ==1) & (Voters_By_County[county]['SR.NAT']==1)].shape[0]\n",
    "    J[county][4,2] = Voters_By_County[county].loc[(Voters_By_County[county]['Republican'] ==1) & (Voters_By_County[county]['SR.NAT']==1)].shape[0]\n",
    "\n",
    "    J[county][5,0] = Voters_By_County[county].loc[(Voters_By_County[county]['Other'] ==1) & (Voters_By_County[county]['SR.OTH']==1)].shape[0]\n",
    "    J[county][5,1] = Voters_By_County[county].loc[(Voters_By_County[county]['Democrat'] ==1) & (Voters_By_County[county]['SR.OTH']==1)].shape[0]\n",
    "    J[county][5,2] = Voters_By_County[county].loc[(Voters_By_County[county]['Republican'] ==1) & (Voters_By_County[county]['SR.OTH']==1)].shape[0]\n",
    "\n",
    "    J[county] /= J[county].sum()"
   ]
  },
  {
   "cell_type": "code",
   "execution_count": 21,
   "metadata": {
    "collapsed": false
   },
   "outputs": [
    {
     "name": "stdout",
     "output_type": "stream",
     "text": [
      "[[ 0.14002316  0.31636083  0.24990753]\n",
      " [ 0.01778736  0.14102832  0.00533942]\n",
      " [ 0.01595394  0.02251564  0.0117403 ]\n",
      " [ 0.01128194  0.01120957  0.00474437]\n",
      " [ 0.00099712  0.0018495   0.00104537]\n",
      " [ 0.01933933  0.02032037  0.00855594]]\n"
     ]
    }
   ],
   "source": [
    "print(J[12])"
   ]
  },
  {
   "cell_type": "markdown",
   "metadata": {},
   "source": [
    "Compute the party marginals"
   ]
  },
  {
   "cell_type": "code",
   "execution_count": 22,
   "metadata": {
    "collapsed": false
   },
   "outputs": [],
   "source": [
    "Party_Marginals = {}\n",
    "parties = ['Other', 'Democrat', 'Republican']\n",
    "for county in all_counties:\n",
    "    Party_Marginals[county] = pd.Series([J[county][:, i].sum()\n",
    "                                        for i in np.arange(3)])\n",
    "    Party_Marginals[county].index = parties"
   ]
  },
  {
   "cell_type": "markdown",
   "metadata": {},
   "source": [
    "Compute the ethnicity marginals"
   ]
  },
  {
   "cell_type": "code",
   "execution_count": 23,
   "metadata": {
    "collapsed": false
   },
   "outputs": [],
   "source": [
    "Ethnicity_Marginals = {}\n",
    "ethnies = ['SR.WHI', 'SR.BLA', 'SR.HIS', 'SR.ASI', 'SR.NAT', 'SR.OTH']\n",
    "for county in all_counties:\n",
    "    Ethnicity_Marginals[county] = pd.Series([J[county][i, :].sum()\n",
    "                                             for i in np.arange(6)])\n",
    "    Ethnicity_Marginals[county].index = ethnies"
   ]
  },
  {
   "cell_type": "markdown",
   "metadata": {},
   "source": [
    "# Compute the cost matrix\n",
    "Using only age, gender, and 2008 vote or abstention"
   ]
  },
  {
   "cell_type": "code",
   "execution_count": 24,
   "metadata": {
    "collapsed": false
   },
   "outputs": [],
   "source": [
    "features = ['Voters_Age', 'Voters_Gender', 'vote08']\n",
    "e_len, p_len = len(ethnies), len(parties)\n",
    "M = np.zeros((e_len, p_len))\n",
    "for i, e in enumerate(ethnies):\n",
    "    data_e = FlData[FlData[e] == 1.0]\n",
    "    average_by_e = data_e[features].mean(axis=0)\n",
    "    for j, p in enumerate(parties):\n",
    "        data_p = FlData[FlData[p] == 1.0]\n",
    "        average_by_p = data_p[features].mean(axis=0)\n",
    "\n",
    "        M[i, j] = np.array(dist.dist_2(average_by_e, average_by_p))"
   ]
  },
  {
   "cell_type": "markdown",
   "metadata": {},
   "source": [
    "# Start the inference"
   ]
  },
  {
   "cell_type": "markdown",
   "metadata": {},
   "source": [
    "Use a specific county or district to select the best parameters"
   ]
  },
  {
   "cell_type": "code",
   "execution_count": 25,
   "metadata": {
    "collapsed": true
   },
   "outputs": [],
   "source": [
    "CV_counties = FlData[FlData['District'] == 3].County.unique()"
   ]
  },
  {
   "cell_type": "markdown",
   "metadata": {},
   "source": [
    "Find the best parameters"
   ]
  },
  {
   "cell_type": "code",
   "execution_count": 26,
   "metadata": {
    "collapsed": false
   },
   "outputs": [
    {
     "name": "stdout",
     "output_type": "stream",
     "text": [
      "q: 0.50, lambda: 0.0100, KL: 0.1245, STD: 0\n",
      "q: 0.50, lambda: 0.1000, KL: 0.1233, STD: 0\n",
      "q: 0.50, lambda: 1.0000, KL: 0.1124, STD: 0\n",
      "q: 0.50, lambda: 10.0000, KL: 0.0826, STD: 0\n",
      "q: 0.50, lambda: 100.0000, KL: 0.2973, STD: 0\n",
      "q: 0.50, lambda: 1000.0000, KL: 0.3971, STD: 0\n",
      "q: 0.60, lambda: 0.0100, KL: 0.1184, STD: 0\n",
      "q: 0.60, lambda: 0.1000, KL: 0.1171, STD: 0\n",
      "q: 0.60, lambda: 1.0000, KL: 0.1052, STD: 0\n",
      "q: 0.60, lambda: 10.0000, KL: 0.08138, STD: 0\n",
      "q: 0.60, lambda: 100.0000, KL: 0.3137, STD: 0\n",
      "q: 0.60, lambda: 1000.0000, KL: 0.4101, STD: 0\n",
      "q: 0.70, lambda: 0.0100, KL: 0.1122, STD: 0\n",
      "q: 0.70, lambda: 0.1000, KL: 0.1107, STD: 0\n",
      "q: 0.70, lambda: 1.0000, KL: 0.09715, STD: 0\n",
      "q: 0.70, lambda: 10.0000, KL: 0.08489, STD: 0\n",
      "q: 0.70, lambda: 100.0000, KL: 0.33, STD: 0\n",
      "q: 0.70, lambda: 1000.0000, KL: 0.4013, STD: 0\n",
      "q: 0.80, lambda: 0.0100, KL: 0.1059, STD: 0\n",
      "q: 0.80, lambda: 0.1000, KL: 0.1041, STD: 0\n",
      "q: 0.80, lambda: 1.0000, KL: 0.08853, STD: 0\n",
      "q: 0.80, lambda: 10.0000, KL: 0.09611, STD: 0\n",
      "q: 0.80, lambda: 100.0000, KL: 0.3431, STD: 0\n",
      "q: 0.80, lambda: 1000.0000, KL: 0.3574, STD: 0\n",
      "q: 0.90, lambda: 0.0100, KL: 0.1003, STD: 0\n",
      "q: 0.90, lambda: 0.1000, KL: 0.09823, STD: 0\n",
      "q: 0.90, lambda: 1.0000, KL: 0.07969, STD: 0\n",
      "q: 0.90, lambda: 10.0000, KL: 0.1177, STD: 0\n",
      "q: 0.90, lambda: 100.0000, KL: 0.353, STD: 0\n",
      "q: 0.90, lambda: 1000.0000, KL: 0.3576, STD: 0\n",
      "q: 1.00, lambda: 0.0100, KL: 0.09541, STD: 0\n",
      "q: 1.00, lambda: 0.1000, KL: 0.09282, STD: 0\n",
      "q: 1.00, lambda: 1.0000, KL: 0.07059, STD: 0\n",
      "q: 1.00, lambda: 10.0000, KL: 0.1521, STD: 0\n",
      "q: 1.00, lambda: 100.0000, KL: 0.3559, STD: 0\n",
      "q: 1.00, lambda: 1000.0000, KL: 0.3565, STD: 0\n",
      "q: 1.10, lambda: 0.0100, KL: 0.09571, STD: 0\n",
      "q: 1.10, lambda: 0.1000, KL: 0.09571, STD: 0\n",
      "q: 1.10, lambda: 1.0000, KL: 0.07557, STD: 0\n",
      "q: 1.10, lambda: 10.0000, KL: 0.07167, STD: 0\n",
      "q: 1.10, lambda: 100.0000, KL: 0.05785, STD: 0\n",
      "q: 1.10, lambda: 1000.0000, KL: 0.05681, STD: 0\n",
      "q: 1.20, lambda: 0.0100, KL: 0.09571, STD: 0\n",
      "q: 1.20, lambda: 0.1000, KL: 0.09571, STD: 0\n",
      "q: 1.20, lambda: 1.0000, KL: 0.08023, STD: 0\n",
      "q: 1.20, lambda: 10.0000, KL: 0.07184, STD: 0\n",
      "q: 1.20, lambda: 100.0000, KL: 0.05792, STD: 0\n",
      "q: 1.20, lambda: 1000.0000, KL: 0.05681, STD: 0\n",
      "q: 1.30, lambda: 0.0100, KL: 0.09571, STD: 0\n",
      "q: 1.30, lambda: 0.1000, KL: 0.09571, STD: 0\n",
      "q: 1.30, lambda: 1.0000, KL: 0.09571, STD: 0\n",
      "q: 1.30, lambda: 10.0000, KL: 0.07179, STD: 0\n",
      "q: 1.30, lambda: 100.0000, KL: 0.05796, STD: 0\n",
      "q: 1.30, lambda: 1000.0000, KL: 0.05682, STD: 0\n",
      "q: 1.40, lambda: 0.0100, KL: 0.09571, STD: 0\n",
      "q: 1.40, lambda: 0.1000, KL: 0.09571, STD: 0\n",
      "q: 1.40, lambda: 1.0000, KL: 0.09571, STD: 0\n",
      "q: 1.40, lambda: 10.0000, KL: 0.07152, STD: 0\n",
      "q: 1.40, lambda: 100.0000, KL: 0.05797, STD: 0\n",
      "q: 1.40, lambda: 1000.0000, KL: 0.05682, STD: 0\n",
      "q: 1.50, lambda: 0.0100, KL: 0.09571, STD: 0\n",
      "q: 1.50, lambda: 0.1000, KL: 0.09571, STD: 0\n",
      "q: 1.50, lambda: 1.0000, KL: 0.09571, STD: 0\n",
      "q: 1.50, lambda: 10.0000, KL: 0.07108, STD: 0\n",
      "q: 1.50, lambda: 100.0000, KL: 0.05796, STD: 0\n",
      "q: 1.50, lambda: 1000.0000, KL: 0.05682, STD: 0\n",
      "q: 1.60, lambda: 0.0100, KL: 0.09571, STD: 0\n",
      "q: 1.60, lambda: 0.1000, KL: 0.09571, STD: 0\n",
      "q: 1.60, lambda: 1.0000, KL: 0.09571, STD: 0\n",
      "q: 1.60, lambda: 10.0000, KL: 0.07049, STD: 0\n",
      "q: 1.60, lambda: 100.0000, KL: 0.05792, STD: 0\n",
      "q: 1.60, lambda: 1000.0000, KL: 0.05681, STD: 0\n",
      "q: 1.70, lambda: 0.0100, KL: 0.09571, STD: 0\n",
      "q: 1.70, lambda: 0.1000, KL: 0.09571, STD: 0\n",
      "q: 1.70, lambda: 1.0000, KL: 0.09571, STD: 0\n",
      "q: 1.70, lambda: 10.0000, KL: 0.06981, STD: 0\n",
      "q: 1.70, lambda: 100.0000, KL: 0.05788, STD: 0\n",
      "q: 1.70, lambda: 1000.0000, KL: 0.05681, STD: 0\n",
      "q: 1.80, lambda: 0.0100, KL: 0.09571, STD: 0\n",
      "q: 1.80, lambda: 0.1000, KL: 0.09571, STD: 0\n",
      "q: 1.80, lambda: 1.0000, KL: 0.09019, STD: 0\n",
      "q: 1.80, lambda: 10.0000, KL: 0.06905, STD: 0\n",
      "q: 1.80, lambda: 100.0000, KL: 0.05782, STD: 0\n",
      "q: 1.80, lambda: 1000.0000, KL: 0.0568, STD: 0\n",
      "q: 1.90, lambda: 0.0100, KL: 0.09571, STD: 0\n",
      "q: 1.90, lambda: 0.1000, KL: 0.09571, STD: 0\n",
      "q: 1.90, lambda: 1.0000, KL: 0.08978, STD: 0\n",
      "q: 1.90, lambda: 10.0000, KL: 0.06827, STD: 0\n",
      "q: 1.90, lambda: 100.0000, KL: 0.05776, STD: 0\n",
      "q: 1.90, lambda: 1000.0000, KL: 0.0568, STD: 0\n",
      "q: 2.00, lambda: 0.0100, KL: 0.09571, STD: 0\n",
      "q: 2.00, lambda: 0.1000, KL: 0.09571, STD: 0\n",
      "q: 2.00, lambda: 1.0000, KL: 0.09389, STD: 0\n",
      "q: 2.00, lambda: 10.0000, KL: 0.06747, STD: 0\n",
      "q: 2.00, lambda: 100.0000, KL: 0.05769, STD: 0\n",
      "q: 2.00, lambda: 1000.0000, KL: 0.05679, STD: 0\n",
      "Best score: 0.05679, Best q: 2.00, Best lambda: 1000.0000\t Standard Variance: 0\n",
      "\n"
     ]
    }
   ],
   "source": [
    "q = np.arange(0.5, 2.1, 0.1)\n",
    "l = [0.01, 0.1, 1., 10., 100., 1000.] \n",
    "\n",
    "best_score, best_q, best_l = CV_Local_Inference(Voters_By_County, M, J, Ethnicity_Marginals, Party_Marginals,\n",
    "                   CV_counties,q,l)"
   ]
  },
  {
   "cell_type": "markdown",
   "metadata": {
    "collapsed": true
   },
   "source": [
    "Use selected parameters on the rest of the dataset"
   ]
  },
  {
   "cell_type": "code",
   "execution_count": 27,
   "metadata": {
    "collapsed": false
   },
   "outputs": [
    {
     "name": "stdout",
     "output_type": "stream",
     "text": [
      "Absolute error 0.0109869281715  +  0.00212937107972\n"
     ]
    }
   ],
   "source": [
    "J_inferred = Local_Inference(Voters_By_County, M, J, Ethnicity_Marginals, Party_Marginals, all_counties, best_q, best_l)\n",
    "kl, std = KL(J, J_inferred, all_counties, save_to_file=False, compute_abs_err=True)"
   ]
  },
  {
   "cell_type": "markdown",
   "metadata": {},
   "source": [
    "# Plot the results"
   ]
  },
  {
   "cell_type": "code",
   "execution_count": 28,
   "metadata": {
    "collapsed": false
   },
   "outputs": [],
   "source": [
    "diag = np.linspace(-0.1, 1.0, 100)\n",
    "\n",
    "# pickle results\n",
    "f = open('joints_gallup.pkl', 'rb')\n",
    "J_true, J = pickle.load(f)\n",
    "\n",
    "f = open('baseline.pkl', 'rb')\n",
    "J_baseline = pickle.load(f)\n",
    "\n",
    "j_true, j, j_baseline = [], [], []\n",
    "for c in all_counties:\n",
    "    j_true.append(np.array(J_true[c]).flatten())\n",
    "    j.append(np.array(J_inferred[c]).flatten())\n",
    "    j_baseline.append(np.array(J_baseline[c]).flatten())\n",
    "\n",
    "j_true = np.array(j_true).flatten()\n",
    "j = np.array(j).flatten()\n",
    "j_baseline = np.array(j_baseline).flatten()"
   ]
  },
  {
   "cell_type": "markdown",
   "metadata": {},
   "source": [
    "Plot the correlation between the ground truth for the joint distribution and the infered distribution (the closer to the $x = y$ diagonal axis, the better"
   ]
  },
  {
   "cell_type": "code",
   "execution_count": 29,
   "metadata": {
    "collapsed": false
   },
   "outputs": [],
   "source": [
    "plt.figure()\n",
    "plt.scatter(j_true, j, alpha=0.5)\n",
    "plt.xlabel('Ground truth')\n",
    "plt.ylabel('TROT (RBF)')\n",
    "plt.plot(diag, diag, 'r--')\n",
    "\n",
    "plt.show()"
   ]
  },
  {
   "cell_type": "markdown",
   "metadata": {},
   "source": [
    "Plot the distribution of the error (the more packed around the origin of the $x$-axis, the better)"
   ]
  },
  {
   "cell_type": "code",
   "execution_count": 30,
   "metadata": {
    "collapsed": false
   },
   "outputs": [],
   "source": [
    "plt.figure()\n",
    "bins = np.arange(-.3, .6, 0.01)\n",
    "plt.hist(j_true - j, bins=bins, alpha=0.5, label='TROT')\n",
    "plt.hist(j_true - j_baseline, bins=bins, alpha=0.5, label='Florida-average')\n",
    "plt.legend()\n",
    "plt.xlabel('Difference between inference and ground truth')\n",
    "\n",
    "plt.show()"
   ]
  },
  {
   "cell_type": "markdown",
   "metadata": {},
   "source": [
    "# Survey-based ecological inference\n",
    "Same pipeline, but using a cost matrix computed thanks to the 2013 Gallup survey. (http://www.gallup.com/poll/160373/democrats-racially-diverse-republicans-mostly-white.aspx)\n",
    "\n",
    "We assume that Gallup's Other = {Native, Other}\n",
    "\n",
    "The cost matrix M is computed as $1-p_{ij}$, where $p_{ij}$ is the proportion of people registered to party $j$ belonging to group $i$."
   ]
  },
  {
   "cell_type": "code",
   "execution_count": 31,
   "metadata": {
    "collapsed": true
   },
   "outputs": [],
   "source": [
    "M_sur = np.array([\n",
    "               [.38, .26, .35],\n",
    "               [.29, .64, .05],\n",
    "               [.50, .32, .13],\n",
    "               [.46, .36, .17],\n",
    "               [.49, .32, .18],\n",
    "               [.49, .32, .18]\n",
    "               ])\n",
    "M_sur = (1. - M_sur)"
   ]
  },
  {
   "cell_type": "markdown",
   "metadata": {},
   "source": [
    "Once again, find the best parameters"
   ]
  },
  {
   "cell_type": "code",
   "execution_count": 32,
   "metadata": {
    "collapsed": false
   },
   "outputs": [
    {
     "name": "stdout",
     "output_type": "stream",
     "text": [
      "q: 0.50, lambda: 0.0100, KL: 0.1569, STD: 0\n",
      "q: 0.50, lambda: 0.1000, KL: 0.1538, STD: 0\n",
      "q: 0.50, lambda: 1.0000, KL: 0.1238, STD: 0\n",
      "q: 0.50, lambda: 10.0000, KL: 0.008533, STD: 0\n",
      "q: 0.50, lambda: 100.0000, KL: 0.0585, STD: 0\n",
      "q: 0.50, lambda: 1000.0000, KL: 0.9554, STD: 0\n",
      "q: 0.60, lambda: 0.0100, KL: 0.1488, STD: 0\n",
      "q: 0.60, lambda: 0.1000, KL: 0.1453, STD: 0\n",
      "q: 0.60, lambda: 1.0000, KL: 0.1135, STD: 0\n",
      "q: 0.60, lambda: 10.0000, KL: 0.003816, STD: 0\n",
      "q: 0.60, lambda: 100.0000, KL: 0.07131, STD: 0\n",
      "q: 0.60, lambda: 1000.0000, KL: 0.8529, STD: 0\n",
      "q: 0.70, lambda: 0.0100, KL: 0.14, STD: 0\n",
      "q: 0.70, lambda: 0.1000, KL: 0.1362, STD: 0\n",
      "q: 0.70, lambda: 1.0000, KL: 0.1017, STD: 0\n",
      "q: 0.70, lambda: 10.0000, KL: 0.001322, STD: 0\n",
      "q: 0.70, lambda: 100.0000, KL: 0.08656, STD: 0\n",
      "q: 0.70, lambda: 1000.0000, KL: 0.6588, STD: 0\n",
      "q: 0.80, lambda: 0.0100, KL: 0.1308, STD: 0\n",
      "q: 0.80, lambda: 0.1000, KL: 0.1266, STD: 0\n",
      "q: 0.80, lambda: 1.0000, KL: 0.08878, STD: 0\n",
      "q: 0.80, lambda: 10.0000, KL: 0.00295, STD: 0\n",
      "q: 0.80, lambda: 100.0000, KL: 0.1035, STD: 0\n",
      "q: 0.80, lambda: 1000.0000, KL: 0.6589, STD: 0\n",
      "q: 0.90, lambda: 0.0100, KL: 0.1218, STD: 0\n",
      "q: 0.90, lambda: 0.1000, KL: 0.1171, STD: 0\n",
      "q: 0.90, lambda: 1.0000, KL: 0.07531, STD: 0\n",
      "q: 0.90, lambda: 10.0000, KL: 0.01006, STD: 0\n",
      "q: 0.90, lambda: 100.0000, KL: 0.1209, STD: 0\n",
      "q: 0.90, lambda: 1000.0000, KL: 0.1513, STD: 0\n",
      "q: 1.00, lambda: 0.0100, KL: 0.113, STD: 0\n",
      "q: 1.00, lambda: 0.1000, KL: 0.1077, STD: 0\n",
      "q: 1.00, lambda: 1.0000, KL: 0.06186, STD: 0\n",
      "q: 1.00, lambda: 10.0000, KL: 0.02252, STD: 0\n",
      "q: 1.00, lambda: 100.0000, KL: 0.1389, STD: 0\n",
      "q: 1.00, lambda: 1000.0000, KL: 0.1506, STD: 0\n",
      "q: 1.10, lambda: 0.0100, KL: 0.1136, STD: 0\n",
      "q: 1.10, lambda: 0.1000, KL: 0.1136, STD: 0\n",
      "q: 1.10, lambda: 1.0000, KL: 0.06747, STD: 0\n",
      "q: 1.10, lambda: 10.0000, KL: 0.00109, STD: 0\n",
      "q: 1.10, lambda: 100.0000, KL: -0.0002826, STD: 0\n",
      "q: 1.10, lambda: 1000.0000, KL: -0.0002963, STD: 0\n",
      "q: 1.20, lambda: 0.0100, KL: 0.1136, STD: 0\n",
      "q: 1.20, lambda: 0.1000, KL: 0.1136, STD: 0\n",
      "q: 1.20, lambda: 1.0000, KL: 0.04757, STD: 0\n",
      "q: 1.20, lambda: 10.0000, KL: 0.0006187, STD: 0\n",
      "q: 1.20, lambda: 100.0000, KL: -0.0002904, STD: 0\n",
      "q: 1.20, lambda: 1000.0000, KL: -0.0002966, STD: 0\n",
      "q: 1.30, lambda: 0.0100, KL: 0.1136, STD: 0\n",
      "q: 1.30, lambda: 0.1000, KL: 0.1136, STD: 0\n",
      "q: 1.30, lambda: 1.0000, KL: 0.0558, STD: 0\n",
      "q: 1.30, lambda: 10.0000, KL: 0.0003721, STD: 0\n",
      "q: 1.30, lambda: 100.0000, KL: -0.0002947, STD: 0\n",
      "q: 1.30, lambda: 1000.0000, KL: -0.0002968, STD: 0\n",
      "q: 1.40, lambda: 0.0100, KL: 0.1136, STD: 0\n",
      "q: 1.40, lambda: 0.1000, KL: 0.1136, STD: 0\n",
      "q: 1.40, lambda: 1.0000, KL: 0.06174, STD: 0\n",
      "q: 1.40, lambda: 10.0000, KL: 0.0002329, STD: 0\n",
      "q: 1.40, lambda: 100.0000, KL: -0.000297, STD: 0\n",
      "q: 1.40, lambda: 1000.0000, KL: -0.000297, STD: 0\n",
      "q: 1.50, lambda: 0.0100, KL: 0.1136, STD: 0\n",
      "q: 1.50, lambda: 0.1000, KL: 0.1136, STD: 0\n",
      "q: 1.50, lambda: 1.0000, KL: 0.05641, STD: 0\n",
      "q: 1.50, lambda: 10.0000, KL: 0.0001452, STD: 0\n",
      "q: 1.50, lambda: 100.0000, KL: -0.0002983, STD: 0\n",
      "q: 1.50, lambda: 1000.0000, KL: -0.000297, STD: 0\n",
      "q: 1.60, lambda: 0.0100, KL: 0.1136, STD: 0\n",
      "q: 1.60, lambda: 0.1000, KL: 0.1136, STD: 0\n",
      "q: 1.60, lambda: 1.0000, KL: 0.05075, STD: 0\n",
      "q: 1.60, lambda: 10.0000, KL: 8.186e-05, STD: 0\n",
      "q: 1.60, lambda: 100.0000, KL: -0.0002989, STD: 0\n",
      "q: 1.60, lambda: 1000.0000, KL: -0.000297, STD: 0\n",
      "q: 1.70, lambda: 0.0100, KL: 0.1136, STD: 0\n",
      "q: 1.70, lambda: 0.1000, KL: 0.1136, STD: 0\n",
      "q: 1.70, lambda: 1.0000, KL: 0.04659, STD: 0\n",
      "q: 1.70, lambda: 10.0000, KL: 3.051e-05, STD: 0\n",
      "q: 1.70, lambda: 100.0000, KL: -0.0002993, STD: 0\n",
      "q: 1.70, lambda: 1000.0000, KL: -0.000297, STD: 0\n",
      "q: 1.80, lambda: 0.0100, KL: 0.1136, STD: 0\n",
      "q: 1.80, lambda: 0.1000, KL: 0.1136, STD: 0\n",
      "q: 1.80, lambda: 1.0000, KL: 0.04822, STD: 0\n",
      "q: 1.80, lambda: 10.0000, KL: -1.432e-05, STD: 0\n",
      "q: 1.80, lambda: 100.0000, KL: -0.0002995, STD: 0\n",
      "q: 1.80, lambda: 1000.0000, KL: -0.000297, STD: 0\n",
      "q: 1.90, lambda: 0.0100, KL: 0.1136, STD: 0\n",
      "q: 1.90, lambda: 0.1000, KL: 0.1136, STD: 0\n",
      "q: 1.90, lambda: 1.0000, KL: 0.05292, STD: 0\n",
      "q: 1.90, lambda: 10.0000, KL: -5.474e-05, STD: 0\n",
      "q: 1.90, lambda: 100.0000, KL: -0.0002995, STD: 0\n",
      "q: 1.90, lambda: 1000.0000, KL: -0.000297, STD: 0\n",
      "q: 2.00, lambda: 0.0100, KL: 0.1136, STD: 0\n",
      "q: 2.00, lambda: 0.1000, KL: 0.1136, STD: 0\n",
      "q: 2.00, lambda: 1.0000, KL: 0.04395, STD: 0\n",
      "q: 2.00, lambda: 10.0000, KL: -9.137e-05, STD: 0\n",
      "q: 2.00, lambda: 100.0000, KL: -0.0002995, STD: 0\n",
      "q: 2.00, lambda: 1000.0000, KL: -0.0002969, STD: 0\n",
      "Best score: -0.0002995, Best q: 1.90, Best lambda: 100.0000\t Standard Variance: 0\n",
      "\n"
     ]
    }
   ],
   "source": [
    "best_score, best_q, best_l = CV_Local_Inference(Voters_By_County, M_sur, J, Ethnicity_Marginals, Party_Marginals,\n",
    "                   CV_counties,q,l)"
   ]
  },
  {
   "cell_type": "markdown",
   "metadata": {},
   "source": [
    "Using these parameters, run the inference on the rest of the dataset"
   ]
  },
  {
   "cell_type": "code",
   "execution_count": 33,
   "metadata": {
    "collapsed": false
   },
   "outputs": [
    {
     "name": "stdout",
     "output_type": "stream",
     "text": [
      "Absolute error 0.00449674812651  +  0.00448982091371\n"
     ]
    }
   ],
   "source": [
    "J_sur = Local_Inference(Voters_By_County, M_sur, J, Ethnicity_Marginals, Party_Marginals, all_counties, best_q, best_l)\n",
    "kl, std = KL(J, J_sur, all_counties, save_to_file=False, compute_abs_err=True)"
   ]
  },
  {
   "cell_type": "markdown",
   "metadata": {},
   "source": [
    "Plot correlation with ground truth"
   ]
  },
  {
   "cell_type": "code",
   "execution_count": 34,
   "metadata": {
    "collapsed": true
   },
   "outputs": [],
   "source": [
    "j_sur = []\n",
    "for c in all_counties:\n",
    "    j_sur.append(np.array(J_sur[c]).flatten())\n",
    "\n",
    "j_sur = np.array(j_sur).flatten()\n",
    "\n",
    "plt.figure()\n",
    "plt.scatter(j_true, j_sur, alpha=0.5)\n",
    "plt.xlabel('Ground truth')\n",
    "plt.ylabel('TROT (survey)')\n",
    "plt.plot(diag, diag, 'r--')\n",
    "\n",
    "plt.show()\n",
    "    "
   ]
  },
  {
   "cell_type": "markdown",
   "metadata": {},
   "source": [
    "Plot error distribution (compared with Florida average)"
   ]
  },
  {
   "cell_type": "code",
   "execution_count": 35,
   "metadata": {
    "collapsed": false
   },
   "outputs": [],
   "source": [
    "plt.figure()\n",
    "bins = np.arange(-.3, .6, 0.01)\n",
    "plt.hist(j_true - j_sur, bins=bins, alpha=0.5, label='TROT (survey)')\n",
    "plt.hist(j_true - j_baseline, bins=bins, alpha=0.5, label='Florida-average')\n",
    "plt.legend()\n",
    "plt.xlabel('Difference between inference and ground truth')\n",
    "\n",
    "plt.show()"
   ]
  }
 ],
 "metadata": {
  "kernelspec": {
   "display_name": "Python 3",
   "language": "python",
   "name": "python3"
  },
  "language_info": {
   "codemirror_mode": {
    "name": "ipython",
    "version": 3
   },
   "file_extension": ".py",
   "mimetype": "text/x-python",
   "name": "python",
   "nbconvert_exporter": "python",
   "pygments_lexer": "ipython3",
   "version": "3.5.1"
  }
 },
 "nbformat": 4,
 "nbformat_minor": 0
}
