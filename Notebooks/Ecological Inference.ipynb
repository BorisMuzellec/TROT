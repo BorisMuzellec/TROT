{
 "cells": [
  {
   "cell_type": "markdown",
   "metadata": {
    "collapsed": true
   },
   "source": [
    "# Ecological Inference through Tsallis Regularized Optimal Transport (TROT)\n",
    "This notebook presents the pipeline used in (cite our paper) to perform ecological inference on the Florida dataset.\n",
    "\n",
    "You will first want to download the dataset from (url to the dataset)"
   ]
  },
  {
   "cell_type": "code",
   "execution_count": 24,
   "metadata": {
    "collapsed": false
   },
   "outputs": [],
   "source": [
    "import pandas as pd\n",
    "import numpy as np\n",
    "import pickle\n",
    "from matplotlib import pyplot as plt\n",
    "from matplotlib.pylab import savefig\n",
    "\n",
    "import sys\n",
    "sys.path.append('..')\n",
    "sys.path.append('../Trot')\n",
    "sys.path.append('../Data')\n",
    "\n",
    "from Trot import Distances as dist\n",
    "from Trot.Evaluation import KL\n",
    "from Trot.Florida_inference import CV_Local_Inference, Local_Inference"
   ]
  },
  {
   "cell_type": "markdown",
   "metadata": {},
   "source": [
    "# Data Loading and Processing"
   ]
  },
  {
   "cell_type": "code",
   "execution_count": 25,
   "metadata": {
    "collapsed": false
   },
   "outputs": [],
   "source": [
    "FlData = pd.read_csv('../Fl_Data.csv', usecols = ['District', 'County','Voters_Age', 'Voters_Gender', 'PID', 'vote08', \n",
    "                    'SR.WHI', 'SR.BLA', 'SR.HIS', 'SR.ASI', 'SR.NAT', 'SR.OTH']) \n",
    "\n",
    "FlData = FlData.dropna()"
   ]
  },
  {
   "cell_type": "markdown",
   "metadata": {},
   "source": [
    "Change gender values to numerical values"
   ]
  },
  {
   "cell_type": "code",
   "execution_count": 26,
   "metadata": {
    "collapsed": true
   },
   "outputs": [],
   "source": [
    "FlData['Voters_Gender'] = FlData['Voters_Gender'].map({'M': 1, 'F': 0})"
   ]
  },
  {
   "cell_type": "markdown",
   "metadata": {},
   "source": [
    "Renormalize the age so that it takes values between 0 and 1"
   ]
  },
  {
   "cell_type": "code",
   "execution_count": 27,
   "metadata": {
    "collapsed": true
   },
   "outputs": [],
   "source": [
    "FlData['Voters_Age'] = ((FlData['Voters_Age'] -\n",
    "                         FlData['Voters_Age'].min()) /\n",
    "                        (FlData['Voters_Age'].max() -\n",
    "                         FlData['Voters_Age'].min()))\n"
   ]
  },
  {
   "cell_type": "markdown",
   "metadata": {},
   "source": [
    "One-hot party subscriptions (PID)"
   ]
  },
  {
   "cell_type": "code",
   "execution_count": 28,
   "metadata": {
    "collapsed": true
   },
   "outputs": [],
   "source": [
    "#Get one hot encoding of column PID\n",
    "one_hot = pd.get_dummies(FlData['PID'])\n",
    "# Drop column PID as it is now encoded\n",
    "FlData = FlData.drop('PID', axis=1)\n",
    "# Join the encoded df\n",
    "FlData = FlData.join(one_hot)\n",
    "# Rename the new columns\n",
    "FlData.rename(columns={0: 'Other', 1: 'Democrat', 2: 'Republican'},\n",
    "              inplace=True)"
   ]
  },
  {
   "cell_type": "code",
   "execution_count": 29,
   "metadata": {
    "collapsed": false
   },
   "outputs": [
    {
     "data": {
      "text/html": [
       "<div>\n",
       "<table border=\"1\" class=\"dataframe\">\n",
       "  <thead>\n",
       "    <tr style=\"text-align: right;\">\n",
       "      <th></th>\n",
       "      <th>District</th>\n",
       "      <th>County</th>\n",
       "      <th>Voters_Age</th>\n",
       "      <th>Voters_Gender</th>\n",
       "      <th>vote08</th>\n",
       "      <th>SR.WHI</th>\n",
       "      <th>SR.BLA</th>\n",
       "      <th>SR.HIS</th>\n",
       "      <th>SR.ASI</th>\n",
       "      <th>SR.NAT</th>\n",
       "      <th>SR.OTH</th>\n",
       "      <th>Other</th>\n",
       "      <th>Democrat</th>\n",
       "      <th>Republican</th>\n",
       "    </tr>\n",
       "  </thead>\n",
       "  <tbody>\n",
       "    <tr>\n",
       "      <th>count</th>\n",
       "      <td>18205.000000</td>\n",
       "      <td>18205</td>\n",
       "      <td>18205.000000</td>\n",
       "      <td>18205.000000</td>\n",
       "      <td>18205.000000</td>\n",
       "      <td>18205.000000</td>\n",
       "      <td>18205.000000</td>\n",
       "      <td>18205.000000</td>\n",
       "      <td>18205.000000</td>\n",
       "      <td>18205.000000</td>\n",
       "      <td>18205.000000</td>\n",
       "      <td>18205.000000</td>\n",
       "      <td>18205.000000</td>\n",
       "      <td>18205.000000</td>\n",
       "    </tr>\n",
       "    <tr>\n",
       "      <th>mean</th>\n",
       "      <td>5.429827</td>\n",
       "      <td>12</td>\n",
       "      <td>0.361123</td>\n",
       "      <td>0.473002</td>\n",
       "      <td>0.820159</td>\n",
       "      <td>0.768745</td>\n",
       "      <td>0.103927</td>\n",
       "      <td>0.049767</td>\n",
       "      <td>0.026476</td>\n",
       "      <td>0.003516</td>\n",
       "      <td>0.049602</td>\n",
       "      <td>0.199396</td>\n",
       "      <td>0.543257</td>\n",
       "      <td>0.257347</td>\n",
       "    </tr>\n",
       "    <tr>\n",
       "      <th>std</th>\n",
       "      <td>1.177072</td>\n",
       "      <td>0</td>\n",
       "      <td>0.240638</td>\n",
       "      <td>0.499284</td>\n",
       "      <td>0.384065</td>\n",
       "      <td>0.421647</td>\n",
       "      <td>0.305175</td>\n",
       "      <td>0.217468</td>\n",
       "      <td>0.160551</td>\n",
       "      <td>0.059189</td>\n",
       "      <td>0.217127</td>\n",
       "      <td>0.399557</td>\n",
       "      <td>0.498139</td>\n",
       "      <td>0.437184</td>\n",
       "    </tr>\n",
       "    <tr>\n",
       "      <th>min</th>\n",
       "      <td>3.000000</td>\n",
       "      <td>12</td>\n",
       "      <td>0.000000</td>\n",
       "      <td>0.000000</td>\n",
       "      <td>0.000000</td>\n",
       "      <td>0.000000</td>\n",
       "      <td>0.000000</td>\n",
       "      <td>0.000000</td>\n",
       "      <td>0.000000</td>\n",
       "      <td>0.000000</td>\n",
       "      <td>0.000000</td>\n",
       "      <td>0.000000</td>\n",
       "      <td>0.000000</td>\n",
       "      <td>0.000000</td>\n",
       "    </tr>\n",
       "    <tr>\n",
       "      <th>25%</th>\n",
       "      <td>6.000000</td>\n",
       "      <td>12</td>\n",
       "      <td>0.125000</td>\n",
       "      <td>0.000000</td>\n",
       "      <td>1.000000</td>\n",
       "      <td>1.000000</td>\n",
       "      <td>0.000000</td>\n",
       "      <td>0.000000</td>\n",
       "      <td>0.000000</td>\n",
       "      <td>0.000000</td>\n",
       "      <td>0.000000</td>\n",
       "      <td>0.000000</td>\n",
       "      <td>0.000000</td>\n",
       "      <td>0.000000</td>\n",
       "    </tr>\n",
       "    <tr>\n",
       "      <th>50%</th>\n",
       "      <td>6.000000</td>\n",
       "      <td>12</td>\n",
       "      <td>0.350000</td>\n",
       "      <td>0.000000</td>\n",
       "      <td>1.000000</td>\n",
       "      <td>1.000000</td>\n",
       "      <td>0.000000</td>\n",
       "      <td>0.000000</td>\n",
       "      <td>0.000000</td>\n",
       "      <td>0.000000</td>\n",
       "      <td>0.000000</td>\n",
       "      <td>0.000000</td>\n",
       "      <td>1.000000</td>\n",
       "      <td>0.000000</td>\n",
       "    </tr>\n",
       "    <tr>\n",
       "      <th>75%</th>\n",
       "      <td>6.000000</td>\n",
       "      <td>12</td>\n",
       "      <td>0.550000</td>\n",
       "      <td>1.000000</td>\n",
       "      <td>1.000000</td>\n",
       "      <td>1.000000</td>\n",
       "      <td>0.000000</td>\n",
       "      <td>0.000000</td>\n",
       "      <td>0.000000</td>\n",
       "      <td>0.000000</td>\n",
       "      <td>0.000000</td>\n",
       "      <td>0.000000</td>\n",
       "      <td>1.000000</td>\n",
       "      <td>1.000000</td>\n",
       "    </tr>\n",
       "    <tr>\n",
       "      <th>max</th>\n",
       "      <td>6.000000</td>\n",
       "      <td>12</td>\n",
       "      <td>1.000000</td>\n",
       "      <td>1.000000</td>\n",
       "      <td>1.000000</td>\n",
       "      <td>1.000000</td>\n",
       "      <td>1.000000</td>\n",
       "      <td>1.000000</td>\n",
       "      <td>1.000000</td>\n",
       "      <td>1.000000</td>\n",
       "      <td>1.000000</td>\n",
       "      <td>1.000000</td>\n",
       "      <td>1.000000</td>\n",
       "      <td>1.000000</td>\n",
       "    </tr>\n",
       "  </tbody>\n",
       "</table>\n",
       "</div>"
      ],
      "text/plain": [
       "           District  County    Voters_Age  Voters_Gender        vote08  \\\n",
       "count  18205.000000   18205  18205.000000   18205.000000  18205.000000   \n",
       "mean       5.429827      12      0.361123       0.473002      0.820159   \n",
       "std        1.177072       0      0.240638       0.499284      0.384065   \n",
       "min        3.000000      12      0.000000       0.000000      0.000000   \n",
       "25%        6.000000      12      0.125000       0.000000      1.000000   \n",
       "50%        6.000000      12      0.350000       0.000000      1.000000   \n",
       "75%        6.000000      12      0.550000       1.000000      1.000000   \n",
       "max        6.000000      12      1.000000       1.000000      1.000000   \n",
       "\n",
       "             SR.WHI        SR.BLA        SR.HIS        SR.ASI        SR.NAT  \\\n",
       "count  18205.000000  18205.000000  18205.000000  18205.000000  18205.000000   \n",
       "mean       0.768745      0.103927      0.049767      0.026476      0.003516   \n",
       "std        0.421647      0.305175      0.217468      0.160551      0.059189   \n",
       "min        0.000000      0.000000      0.000000      0.000000      0.000000   \n",
       "25%        1.000000      0.000000      0.000000      0.000000      0.000000   \n",
       "50%        1.000000      0.000000      0.000000      0.000000      0.000000   \n",
       "75%        1.000000      0.000000      0.000000      0.000000      0.000000   \n",
       "max        1.000000      1.000000      1.000000      1.000000      1.000000   \n",
       "\n",
       "             SR.OTH         Other      Democrat    Republican  \n",
       "count  18205.000000  18205.000000  18205.000000  18205.000000  \n",
       "mean       0.049602      0.199396      0.543257      0.257347  \n",
       "std        0.217127      0.399557      0.498139      0.437184  \n",
       "min        0.000000      0.000000      0.000000      0.000000  \n",
       "25%        0.000000      0.000000      0.000000      0.000000  \n",
       "50%        0.000000      0.000000      1.000000      0.000000  \n",
       "75%        0.000000      0.000000      1.000000      1.000000  \n",
       "max        1.000000      1.000000      1.000000      1.000000  "
      ]
     },
     "execution_count": 29,
     "metadata": {},
     "output_type": "execute_result"
    }
   ],
   "source": [
    "FlData.describe()"
   ]
  },
  {
   "cell_type": "markdown",
   "metadata": {},
   "source": [
    "# Compute Marginals and Joint Distributions"
   ]
  },
  {
   "cell_type": "markdown",
   "metadata": {},
   "source": [
    "Create a county dictionnary"
   ]
  },
  {
   "cell_type": "code",
   "execution_count": 30,
   "metadata": {
    "collapsed": false
   },
   "outputs": [],
   "source": [
    "Voters_By_County = {}\n",
    "all_counties = FlData.County.unique()\n",
    "for county in all_counties:\n",
    "    Voters_By_County[county] = FlData[FlData['County'] == county]"
   ]
  },
  {
   "cell_type": "markdown",
   "metadata": {},
   "source": [
    "Compute the ground truth joint distribution"
   ]
  },
  {
   "cell_type": "code",
   "execution_count": 31,
   "metadata": {
    "collapsed": false
   },
   "outputs": [],
   "source": [
    "J = {}\n",
    "for county in all_counties:\n",
    "    J[county] = np.zeros((6, 3))\n",
    "\n",
    "    J[county][0,0] = Voters_By_County[county].loc[(Voters_By_County[county]['Other'] ==1) & (Voters_By_County[county]['SR.WHI']==1)].shape[0]\n",
    "    J[county][0,1] = Voters_By_County[county].loc[(Voters_By_County[county]['Democrat'] ==1) & (Voters_By_County[county]['SR.WHI']==1)].shape[0]\n",
    "    J[county][0,2] = Voters_By_County[county].loc[(Voters_By_County[county]['Republican'] ==1) & (Voters_By_County[county]['SR.WHI']==1)].shape[0]\n",
    "\n",
    "    J[county][1,0] = Voters_By_County[county].loc[(Voters_By_County[county]['Other'] ==1) & (Voters_By_County[county]['SR.BLA']==1)].shape[0]\n",
    "    J[county][1,1] = Voters_By_County[county].loc[(Voters_By_County[county]['Democrat'] ==1) & (Voters_By_County[county]['SR.BLA']==1)].shape[0]\n",
    "    J[county][1,2] = Voters_By_County[county].loc[(Voters_By_County[county]['Republican'] ==1) & (Voters_By_County[county]['SR.BLA']==1)].shape[0]\n",
    "\n",
    "    J[county][2,0] = Voters_By_County[county].loc[(Voters_By_County[county]['Other'] ==1) & (Voters_By_County[county]['SR.HIS']==1)].shape[0]\n",
    "    J[county][2,1] = Voters_By_County[county].loc[(Voters_By_County[county]['Democrat'] ==1) & (Voters_By_County[county]['SR.HIS']==1)].shape[0]\n",
    "    J[county][2,2] = Voters_By_County[county].loc[(Voters_By_County[county]['Republican'] ==1) & (Voters_By_County[county]['SR.HIS']==1)].shape[0]\n",
    "\n",
    "    J[county][3,0] = Voters_By_County[county].loc[(Voters_By_County[county]['Other'] ==1) & (Voters_By_County[county]['SR.ASI']==1)].shape[0]\n",
    "    J[county][3,1] = Voters_By_County[county].loc[(Voters_By_County[county]['Democrat'] ==1) & (Voters_By_County[county]['SR.ASI']==1)].shape[0]\n",
    "    J[county][3,2] = Voters_By_County[county].loc[(Voters_By_County[county]['Republican'] ==1) & (Voters_By_County[county]['SR.ASI']==1)].shape[0]\n",
    "\n",
    "    J[county][4,0] = Voters_By_County[county].loc[(Voters_By_County[county]['Other'] ==1) &(Voters_By_County[county]['SR.NAT']==1)].shape[0]\n",
    "    J[county][4,1] = Voters_By_County[county].loc[(Voters_By_County[county]['Democrat'] ==1) & (Voters_By_County[county]['SR.NAT']==1)].shape[0]\n",
    "    J[county][4,2] = Voters_By_County[county].loc[(Voters_By_County[county]['Republican'] ==1) & (Voters_By_County[county]['SR.NAT']==1)].shape[0]\n",
    "\n",
    "    J[county][5,0] = Voters_By_County[county].loc[(Voters_By_County[county]['Other'] ==1) & (Voters_By_County[county]['SR.OTH']==1)].shape[0]\n",
    "    J[county][5,1] = Voters_By_County[county].loc[(Voters_By_County[county]['Democrat'] ==1) & (Voters_By_County[county]['SR.OTH']==1)].shape[0]\n",
    "    J[county][5,2] = Voters_By_County[county].loc[(Voters_By_County[county]['Republican'] ==1) & (Voters_By_County[county]['SR.OTH']==1)].shape[0]\n",
    "\n",
    "    J[county] /= J[county].sum()"
   ]
  },
  {
   "cell_type": "code",
   "execution_count": 32,
   "metadata": {
    "collapsed": false
   },
   "outputs": [
    {
     "name": "stdout",
     "output_type": "stream",
     "text": [
      "[[ 0.14225414  0.39540621  0.22952527]\n",
      " [ 0.01178599  0.08853196  0.00339875]\n",
      " [ 0.01584256  0.02318825  0.0106348 ]\n",
      " [ 0.01074444  0.01057998  0.00509813]\n",
      " [ 0.00076746  0.00197347  0.00076746]\n",
      " [ 0.01792567  0.02351716  0.00805833]]\n"
     ]
    }
   ],
   "source": [
    "print(J[12])"
   ]
  },
  {
   "cell_type": "markdown",
   "metadata": {},
   "source": [
    "Compute the party marginals"
   ]
  },
  {
   "cell_type": "code",
   "execution_count": 33,
   "metadata": {
    "collapsed": false
   },
   "outputs": [],
   "source": [
    "Party_Marginals = {}\n",
    "parties = ['Other', 'Democrat', 'Republican']\n",
    "for county in all_counties:\n",
    "    Party_Marginals[county] = pd.Series([J[county][:, i].sum()\n",
    "                                        for i in np.arange(3)])\n",
    "    Party_Marginals[county].index = parties"
   ]
  },
  {
   "cell_type": "markdown",
   "metadata": {},
   "source": [
    "Compute the ethnicity marginals"
   ]
  },
  {
   "cell_type": "code",
   "execution_count": 34,
   "metadata": {
    "collapsed": false
   },
   "outputs": [],
   "source": [
    "Ethnicity_Marginals = {}\n",
    "ethnies = ['SR.WHI', 'SR.BLA', 'SR.HIS', 'SR.ASI', 'SR.NAT', 'SR.OTH']\n",
    "for county in all_counties:\n",
    "    Ethnicity_Marginals[county] = pd.Series([J[county][i, :].sum()\n",
    "                                             for i in np.arange(6)])\n",
    "    Ethnicity_Marginals[county].index = ethnies"
   ]
  },
  {
   "cell_type": "markdown",
   "metadata": {},
   "source": [
    "# Compute the cost matrix\n",
    "Using only age, gender, and 2008 vote or abstention"
   ]
  },
  {
   "cell_type": "code",
   "execution_count": 35,
   "metadata": {
    "collapsed": false
   },
   "outputs": [],
   "source": [
    "features = ['Voters_Age', 'Voters_Gender', 'vote08']\n",
    "e_len, p_len = len(ethnies), len(parties)\n",
    "M = np.zeros((e_len, p_len))\n",
    "for i, e in enumerate(ethnies):\n",
    "    data_e = FlData[FlData[e] == 1.0]\n",
    "    average_by_e = data_e[features].mean(axis=0)\n",
    "    for j, p in enumerate(parties):\n",
    "        data_p = FlData[FlData[p] == 1.0]\n",
    "        average_by_p = data_p[features].mean(axis=0)\n",
    "\n",
    "        M[i, j] = np.array(dist.dist_2(average_by_e, average_by_p))"
   ]
  },
  {
   "cell_type": "markdown",
   "metadata": {},
   "source": [
    "# Start the inference"
   ]
  },
  {
   "cell_type": "markdown",
   "metadata": {},
   "source": [
    "Use a specific county or district to select the best parameters"
   ]
  },
  {
   "cell_type": "code",
   "execution_count": 36,
   "metadata": {
    "collapsed": true
   },
   "outputs": [],
   "source": [
    "CV_counties = FlData[FlData['District'] == 3].County.unique()"
   ]
  },
  {
   "cell_type": "markdown",
   "metadata": {},
   "source": [
    "Find the best parameters"
   ]
  },
  {
   "cell_type": "code",
   "execution_count": 37,
   "metadata": {
    "collapsed": false
   },
   "outputs": [
    {
     "name": "stdout",
     "output_type": "stream",
     "text": [
      "q: 0.50, lambda: 0.0100, KL: 0.07895, STD: 0\n",
      "q: 0.50, lambda: 0.1000, KL: 0.07859, STD: 0\n",
      "q: 0.50, lambda: 1.0000, KL: 0.07556, STD: 0\n",
      "q: 0.50, lambda: 10.0000, KL: 0.1046, STD: 0\n",
      "q: 0.50, lambda: 100.0000, KL: 0.3701, STD: 0\n",
      "q: 0.60, lambda: 0.0100, KL: 0.07369, STD: 0\n",
      "q: 0.60, lambda: 0.1000, KL: 0.07325, STD: 0\n",
      "q: 0.60, lambda: 1.0000, KL: 0.06959, STD: 0\n",
      "q: 0.60, lambda: 10.0000, KL: 0.1099, STD: 0\n",
      "q: 0.60, lambda: 100.0000, KL: 0.3799, STD: 0\n",
      "q: 0.70, lambda: 0.0100, KL: 0.06793, STD: 0\n",
      "q: 0.70, lambda: 0.1000, KL: 0.06737, STD: 0\n",
      "q: 0.70, lambda: 1.0000, KL: 0.0628, STD: 0\n",
      "q: 0.70, lambda: 10.0000, KL: 0.1208, STD: 0\n",
      "q: 0.70, lambda: 100.0000, KL: 0.3884, STD: 0\n",
      "q: 0.80, lambda: 0.0100, KL: 0.06197, STD: 0\n",
      "q: 0.80, lambda: 0.1000, KL: 0.06123, STD: 0\n",
      "q: 0.80, lambda: 1.0000, KL: 0.05535, STD: 0\n",
      "q: 0.80, lambda: 10.0000, KL: 0.1395, STD: 0\n",
      "q: 0.80, lambda: 100.0000, KL: 0.3934, STD: 0\n",
      "q: 0.90, lambda: 0.0100, KL: 0.05649, STD: 0\n",
      "q: 0.90, lambda: 0.1000, KL: 0.05549, STD: 0\n",
      "q: 0.90, lambda: 1.0000, KL: 0.04767, STD: 0\n",
      "q: 0.90, lambda: 10.0000, KL: 0.1685, STD: 0\n",
      "q: 0.90, lambda: 100.0000, KL: 0.3953, STD: 0\n",
      "q: 1.00, lambda: 0.0100, KL: 0.05186, STD: 0\n",
      "q: 1.00, lambda: 0.1000, KL: 0.05049, STD: 0\n",
      "q: 1.00, lambda: 1.0000, KL: 0.04006, STD: 0\n",
      "q: 1.00, lambda: 10.0000, KL: 0.2093, STD: 0\n",
      "q: 1.00, lambda: 100.0000, KL: 0.3979, STD: 0\n",
      "q: 1.10, lambda: 0.0100, KL: 0.05202, STD: 0\n",
      "q: 1.10, lambda: 0.1000, KL: 0.05202, STD: 0\n",
      "q: 1.10, lambda: 1.0000, KL: 0.04534, STD: 0\n",
      "q: 1.10, lambda: 10.0000, KL: 0.09287, STD: 0\n",
      "q: 1.10, lambda: 100.0000, KL: 0.06961, STD: 0\n",
      "q: 1.20, lambda: 0.0100, KL: 0.05202, STD: 0\n",
      "q: 1.20, lambda: 0.1000, KL: 0.05202, STD: 0\n",
      "q: 1.20, lambda: 1.0000, KL: 0.05202, STD: 0\n",
      "q: 1.20, lambda: 10.0000, KL: 0.09251, STD: 0\n",
      "q: 1.20, lambda: 100.0000, KL: 0.06962, STD: 0\n",
      "q: 1.30, lambda: 0.0100, KL: 0.05202, STD: 0\n",
      "q: 1.30, lambda: 0.1000, KL: 0.05202, STD: 0\n",
      "q: 1.30, lambda: 1.0000, KL: 0.05202, STD: 0\n",
      "q: 1.30, lambda: 10.0000, KL: 0.09182, STD: 0\n",
      "q: 1.30, lambda: 100.0000, KL: 0.0696, STD: 0\n",
      "q: 1.40, lambda: 0.0100, KL: 0.05202, STD: 0\n",
      "q: 1.40, lambda: 0.1000, KL: 0.05202, STD: 0\n",
      "q: 1.40, lambda: 1.0000, KL: 0.05202, STD: 0\n",
      "q: 1.40, lambda: 10.0000, KL: 0.09087, STD: 0\n",
      "q: 1.40, lambda: 100.0000, KL: 0.06955, STD: 0\n",
      "q: 1.50, lambda: 0.0100, KL: 0.05202, STD: 0\n",
      "q: 1.50, lambda: 0.1000, KL: 0.05202, STD: 0\n",
      "q: 1.50, lambda: 1.0000, KL: 0.05202, STD: 0\n",
      "q: 1.50, lambda: 10.0000, KL: 0.08974, STD: 0\n",
      "q: 1.50, lambda: 100.0000, KL: 0.06948, STD: 0\n",
      "q: 1.60, lambda: 0.0100, KL: 0.05202, STD: 0\n",
      "q: 1.60, lambda: 0.1000, KL: 0.05202, STD: 0\n",
      "q: 1.60, lambda: 1.0000, KL: 0.05202, STD: 0\n",
      "q: 1.60, lambda: 10.0000, KL: 0.0885, STD: 0\n",
      "q: 1.60, lambda: 100.0000, KL: 0.06939, STD: 0\n",
      "q: 1.70, lambda: 0.0100, KL: 0.05202, STD: 0\n",
      "q: 1.70, lambda: 0.1000, KL: 0.05202, STD: 0\n",
      "q: 1.70, lambda: 1.0000, KL: 0.05202, STD: 0\n",
      "q: 1.70, lambda: 10.0000, KL: 0.0872, STD: 0\n",
      "q: 1.70, lambda: 100.0000, KL: 0.06929, STD: 0\n",
      "q: 1.80, lambda: 0.0100, KL: 0.05202, STD: 0\n",
      "q: 1.80, lambda: 0.1000, KL: 0.05202, STD: 0\n",
      "q: 1.80, lambda: 1.0000, KL: 0.05202, STD: 0\n",
      "q: 1.80, lambda: 10.0000, KL: 0.08589, STD: 0\n",
      "q: 1.80, lambda: 100.0000, KL: 0.06919, STD: 0\n",
      "q: 1.90, lambda: 0.0100, KL: 0.05202, STD: 0\n",
      "q: 1.90, lambda: 0.1000, KL: 0.05202, STD: 0\n",
      "q: 1.90, lambda: 1.0000, KL: 0.05202, STD: 0\n",
      "q: 1.90, lambda: 10.0000, KL: 0.08459, STD: 0\n",
      "q: 1.90, lambda: 100.0000, KL: 0.06908, STD: 0\n",
      "q: 2.00, lambda: 0.0100, KL: 0.05202, STD: 0\n",
      "q: 2.00, lambda: 0.1000, KL: 0.05202, STD: 0\n",
      "q: 2.00, lambda: 1.0000, KL: 0.05202, STD: 0\n",
      "q: 2.00, lambda: 10.0000, KL: 0.08333, STD: 0\n",
      "q: 2.00, lambda: 100.0000, KL: 0.06897, STD: 0\n",
      "Best score: 0.04006, Best q: 1.00, Best lambda: 1.0000\t Standard Variance: 0\n",
      "\n"
     ]
    }
   ],
   "source": [
    "q = np.arange(0.5, 2.1, 0.1)\n",
    "l = [0.01, 0.1, 1., 10., 100.] \n",
    "\n",
    "best_score, best_q, best_l = CV_Local_Inference(Voters_By_County, M, J, Ethnicity_Marginals, Party_Marginals,\n",
    "                   CV_counties,q,l)"
   ]
  },
  {
   "cell_type": "markdown",
   "metadata": {
    "collapsed": true
   },
   "source": [
    "Use selected parameters on the rest of the dataset"
   ]
  },
  {
   "cell_type": "code",
   "execution_count": 38,
   "metadata": {
    "collapsed": false
   },
   "outputs": [
    {
     "name": "stdout",
     "output_type": "stream",
     "text": [
      "Absolute error 0.0075675635082  +  0.0\n"
     ]
    }
   ],
   "source": [
    "J_inferred = Local_Inference(Voters_By_County, M, J, Ethnicity_Marginals, Party_Marginals, all_counties, best_q, best_l)\n",
    "kl, std = KL(J, J_inferred, all_counties, save_to_file=False, compute_abs_err=True)"
   ]
  },
  {
   "cell_type": "markdown",
   "metadata": {},
   "source": [
    "# Plot the results"
   ]
  },
  {
   "cell_type": "code",
   "execution_count": 39,
   "metadata": {
    "collapsed": false
   },
   "outputs": [],
   "source": [
    "diag = np.linspace(-0.1, 1.0, 100)\n",
    "\n",
    "# pickle results\n",
    "f = open('../Data/joints_gallup.pkl', 'rb')\n",
    "J_true, J = pickle.load(f)\n",
    "\n",
    "f = open('../Data/baseline.pkl', 'rb')\n",
    "J_baseline = pickle.load(f)\n",
    "\n",
    "j_true, j, j_baseline = [], [], []\n",
    "for c in all_counties:\n",
    "    j_true.append(np.array(J_true[c]).flatten())\n",
    "    j.append(np.array(J_inferred[c]).flatten())\n",
    "    j_baseline.append(np.array(J_baseline[c]).flatten())\n",
    "\n",
    "j_true = np.array(j_true).flatten()\n",
    "j = np.array(j).flatten()\n",
    "j_baseline = np.array(j_baseline).flatten()"
   ]
  },
  {
   "cell_type": "markdown",
   "metadata": {},
   "source": [
    "Plot the correlation between the ground truth for the joint distribution and the infered distribution (the closer to the $x = y$ diagonal axis, the better"
   ]
  },
  {
   "cell_type": "code",
   "execution_count": 40,
   "metadata": {
    "collapsed": false
   },
   "outputs": [],
   "source": [
    "plt.figure()\n",
    "plt.scatter(j_true, j, alpha=0.5)\n",
    "plt.xlabel('Ground truth')\n",
    "plt.ylabel('TROT (RBF)')\n",
    "plt.plot(diag, diag, 'r--')\n",
    "\n",
    "plt.show()"
   ]
  },
  {
   "cell_type": "markdown",
   "metadata": {},
   "source": [
    "Plot the distribution of the error (the more packed around the origin of the $x$-axis, the better)"
   ]
  },
  {
   "cell_type": "code",
   "execution_count": 41,
   "metadata": {
    "collapsed": false
   },
   "outputs": [],
   "source": [
    "plt.figure()\n",
    "bins = np.arange(-.3, .6, 0.01)\n",
    "plt.hist(j_true - j, bins=bins, alpha=0.5, label='TROT')\n",
    "plt.hist(j_true - j_baseline, bins=bins, alpha=0.5, label='Florida-average')\n",
    "plt.legend()\n",
    "plt.xlabel('Difference between inference and ground truth')\n",
    "\n",
    "plt.show()"
   ]
  },
  {
   "cell_type": "markdown",
   "metadata": {},
   "source": [
    "# Survey-based ecological inference\n",
    "Same pipeline, but using a cost matrix computed thanks to the 2013 Gallup survey. (http://www.gallup.com/poll/160373/democrats-racially-diverse-republicans-mostly-white.aspx)\n",
    "\n",
    "We assume that Gallup's Other = {Native, Other}\n",
    "\n",
    "The cost matrix M is computed as $1-p_{ij}$, where $p_{ij}$ is the proportion of people registered to party $j$ belonging to group $i$."
   ]
  },
  {
   "cell_type": "code",
   "execution_count": 42,
   "metadata": {
    "collapsed": true
   },
   "outputs": [],
   "source": [
    "M_sur = np.array([\n",
    "               [.38, .26, .35],\n",
    "               [.29, .64, .05],\n",
    "               [.50, .32, .13],\n",
    "               [.46, .36, .17],\n",
    "               [.49, .32, .18],\n",
    "               [.49, .32, .18]\n",
    "               ])\n",
    "M_sur = (1. - M_sur)"
   ]
  },
  {
   "cell_type": "markdown",
   "metadata": {},
   "source": [
    "Once again, find the best parameters"
   ]
  },
  {
   "cell_type": "code",
   "execution_count": 43,
   "metadata": {
    "collapsed": false
   },
   "outputs": [
    {
     "name": "stdout",
     "output_type": "stream",
     "text": [
      "q: 0.50, lambda: 0.0100, KL: 0.1492, STD: 0\n",
      "q: 0.50, lambda: 0.1000, KL: 0.1473, STD: 0\n",
      "q: 0.50, lambda: 1.0000, KL: 0.1295, STD: 0\n",
      "q: 0.50, lambda: 10.0000, KL: 0.04164, STD: 0\n",
      "q: 0.50, lambda: 100.0000, KL: 0.08021, STD: 0\n",
      "q: 0.60, lambda: 0.0100, KL: 0.1409, STD: 0\n",
      "q: 0.60, lambda: 0.1000, KL: 0.1388, STD: 0\n",
      "q: 0.60, lambda: 1.0000, KL: 0.1189, STD: 0\n",
      "q: 0.60, lambda: 10.0000, KL: 0.03358, STD: 0\n",
      "q: 0.60, lambda: 100.0000, KL: 0.09233, STD: 0\n",
      "q: 0.70, lambda: 0.0100, KL: 0.1315, STD: 0\n",
      "q: 0.70, lambda: 0.1000, KL: 0.1291, STD: 0\n",
      "q: 0.70, lambda: 1.0000, KL: 0.1065, STD: 0\n",
      "q: 0.70, lambda: 10.0000, KL: 0.02749, STD: 0\n",
      "q: 0.70, lambda: 100.0000, KL: 0.1081, STD: 0\n",
      "q: 0.80, lambda: 0.0100, KL: 0.1212, STD: 0\n",
      "q: 0.80, lambda: 0.1000, KL: 0.1184, STD: 0\n",
      "q: 0.80, lambda: 1.0000, KL: 0.09284, STD: 0\n",
      "q: 0.80, lambda: 10.0000, KL: 0.0255, STD: 0\n",
      "q: 0.80, lambda: 100.0000, KL: 0.1252, STD: 0\n",
      "q: 0.90, lambda: 0.0100, KL: 0.1096, STD: 0\n",
      "q: 0.90, lambda: 0.1000, KL: 0.1064, STD: 0\n",
      "q: 0.90, lambda: 1.0000, KL: 0.07785, STD: 0\n",
      "q: 0.90, lambda: 10.0000, KL: 0.029, STD: 0\n",
      "q: 0.90, lambda: 100.0000, KL: 0.145, STD: 0\n",
      "q: 1.00, lambda: 0.0100, KL: 0.09918, STD: 0\n",
      "q: 1.00, lambda: 0.1000, KL: 0.09545, STD: 0\n",
      "q: 1.00, lambda: 1.0000, KL: 0.06365, STD: 0\n",
      "q: 1.00, lambda: 10.0000, KL: 0.03764, STD: 0\n",
      "q: 1.00, lambda: 100.0000, KL: 0.1643, STD: 0\n",
      "q: 1.10, lambda: 0.0100, KL: 0.0996, STD: 0\n",
      "q: 1.10, lambda: 0.1000, KL: 0.0996, STD: 0\n",
      "q: 1.10, lambda: 1.0000, KL: 0.07086, STD: 0\n",
      "q: 1.10, lambda: 10.0000, KL: 0.0241, STD: 0\n",
      "q: 1.10, lambda: 100.0000, KL: 0.02334, STD: 0\n",
      "q: 1.20, lambda: 0.0100, KL: 0.0996, STD: 0\n",
      "q: 1.20, lambda: 0.1000, KL: 0.0996, STD: 0\n",
      "q: 1.20, lambda: 1.0000, KL: 0.07716, STD: 0\n",
      "q: 1.20, lambda: 10.0000, KL: 0.02393, STD: 0\n",
      "q: 1.20, lambda: 100.0000, KL: 0.02334, STD: 0\n",
      "q: 1.30, lambda: 0.0100, KL: 0.0996, STD: 0\n",
      "q: 1.30, lambda: 0.1000, KL: 0.0996, STD: 0\n",
      "q: 1.30, lambda: 1.0000, KL: 0.08202, STD: 0\n",
      "q: 1.30, lambda: 10.0000, KL: 0.02393, STD: 0\n",
      "q: 1.30, lambda: 100.0000, KL: 0.02334, STD: 0\n",
      "q: 1.40, lambda: 0.0100, KL: 0.0996, STD: 0\n",
      "q: 1.40, lambda: 0.1000, KL: 0.0996, STD: 0\n",
      "q: 1.40, lambda: 1.0000, KL: 0.0996, STD: 0\n",
      "q: 1.40, lambda: 10.0000, KL: 0.02396, STD: 0\n",
      "q: 1.40, lambda: 100.0000, KL: 0.02334, STD: 0\n",
      "q: 1.50, lambda: 0.0100, KL: 0.0996, STD: 0\n",
      "q: 1.50, lambda: 0.1000, KL: 0.0996, STD: 0\n",
      "q: 1.50, lambda: 1.0000, KL: 0.0996, STD: 0\n",
      "q: 1.50, lambda: 10.0000, KL: 0.02398, STD: 0\n",
      "q: 1.50, lambda: 100.0000, KL: 0.02334, STD: 0\n",
      "q: 1.60, lambda: 0.0100, KL: 0.0996, STD: 0\n",
      "q: 1.60, lambda: 0.1000, KL: 0.0996, STD: 0\n",
      "q: 1.60, lambda: 1.0000, KL: 0.0996, STD: 0\n",
      "q: 1.60, lambda: 10.0000, KL: 0.02398, STD: 0\n",
      "q: 1.60, lambda: 100.0000, KL: 0.02333, STD: 0\n",
      "q: 1.70, lambda: 0.0100, KL: 0.0996, STD: 0\n",
      "q: 1.70, lambda: 0.1000, KL: 0.0996, STD: 0\n",
      "q: 1.70, lambda: 1.0000, KL: 0.0996, STD: 0\n",
      "q: 1.70, lambda: 10.0000, KL: 0.02395, STD: 0\n",
      "q: 1.70, lambda: 100.0000, KL: 0.02333, STD: 0\n",
      "q: 1.80, lambda: 0.0100, KL: 0.0996, STD: 0\n",
      "q: 1.80, lambda: 0.1000, KL: 0.0996, STD: 0\n",
      "q: 1.80, lambda: 1.0000, KL: 0.0996, STD: 0\n",
      "q: 1.80, lambda: 10.0000, KL: 0.02391, STD: 0\n",
      "q: 1.80, lambda: 100.0000, KL: 0.02333, STD: 0\n",
      "q: 1.90, lambda: 0.0100, KL: 0.0996, STD: 0\n",
      "q: 1.90, lambda: 0.1000, KL: 0.0996, STD: 0\n",
      "q: 1.90, lambda: 1.0000, KL: 0.0996, STD: 0\n",
      "q: 1.90, lambda: 10.0000, KL: 0.02385, STD: 0\n",
      "q: 1.90, lambda: 100.0000, KL: 0.02333, STD: 0\n",
      "q: 2.00, lambda: 0.0100, KL: 0.0996, STD: 0\n",
      "q: 2.00, lambda: 0.1000, KL: 0.0996, STD: 0\n",
      "q: 2.00, lambda: 1.0000, KL: 0.08625, STD: 0\n",
      "q: 2.00, lambda: 10.0000, KL: 0.0238, STD: 0\n",
      "q: 2.00, lambda: 100.0000, KL: 0.02333, STD: 0\n",
      "Best score: 0.02333, Best q: 2.00, Best lambda: 100.0000\t Standard Variance: 0\n",
      "\n"
     ]
    }
   ],
   "source": [
    "best_score, best_q, best_l = CV_Local_Inference(Voters_By_County, M_sur, J, Ethnicity_Marginals, Party_Marginals,\n",
    "                   CV_counties,q,l)"
   ]
  },
  {
   "cell_type": "markdown",
   "metadata": {},
   "source": [
    "Using these parameters, run the inference on the rest of the dataset"
   ]
  },
  {
   "cell_type": "code",
   "execution_count": 44,
   "metadata": {
    "collapsed": false
   },
   "outputs": [
    {
     "name": "stdout",
     "output_type": "stream",
     "text": [
      "Absolute error 0.0094930050661  +  0.0\n"
     ]
    }
   ],
   "source": [
    "J_sur = Local_Inference(Voters_By_County, M_sur, J, Ethnicity_Marginals, Party_Marginals, all_counties, best_q, best_l)\n",
    "kl, std = KL(J, J_sur, all_counties, save_to_file=False, compute_abs_err=True)"
   ]
  },
  {
   "cell_type": "markdown",
   "metadata": {},
   "source": [
    "Plot correlation with ground truth"
   ]
  },
  {
   "cell_type": "code",
   "execution_count": 45,
   "metadata": {
    "collapsed": true
   },
   "outputs": [],
   "source": [
    "j_sur = []\n",
    "for c in all_counties:\n",
    "    j_sur.append(np.array(J_sur[c]).flatten())\n",
    "\n",
    "j_sur = np.array(j_sur).flatten()\n",
    "\n",
    "plt.figure()\n",
    "plt.scatter(j_true, j_sur, alpha=0.5)\n",
    "plt.xlabel('Ground truth')\n",
    "plt.ylabel('TROT (survey)')\n",
    "plt.plot(diag, diag, 'r--')\n",
    "\n",
    "plt.show()\n",
    "    "
   ]
  },
  {
   "cell_type": "markdown",
   "metadata": {},
   "source": [
    "Plot error distribution (compared with Florida average)"
   ]
  },
  {
   "cell_type": "code",
   "execution_count": 46,
   "metadata": {
    "collapsed": false
   },
   "outputs": [],
   "source": [
    "plt.figure()\n",
    "bins = np.arange(-.3, .6, 0.01)\n",
    "plt.hist(j_true - j_sur, bins=bins, alpha=0.5, label='TROT (survey)')\n",
    "plt.hist(j_true - j_baseline, bins=bins, alpha=0.5, label='Florida-average')\n",
    "plt.legend()\n",
    "plt.xlabel('Difference between inference and ground truth')\n",
    "\n",
    "plt.show()"
   ]
  }
 ],
 "metadata": {
  "kernelspec": {
   "display_name": "Python 3",
   "language": "python",
   "name": "python3"
  },
  "language_info": {
   "codemirror_mode": {
    "name": "ipython",
    "version": 3
   },
   "file_extension": ".py",
   "mimetype": "text/x-python",
   "name": "python",
   "nbconvert_exporter": "python",
   "pygments_lexer": "ipython3",
   "version": "3.5.1"
  }
 },
 "nbformat": 4,
 "nbformat_minor": 0
}
